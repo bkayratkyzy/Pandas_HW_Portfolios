{
 "cells": [
  {
   "cell_type": "markdown",
   "metadata": {},
   "source": [
    " #  A Whale off the Port(folio)\n",
    "\n",
    " In this assignment, you'll get to use what you've learned this week to evaluate the performance among various algorithmic, hedge, and mutual fund portfolios and compare them against the S&P 500."
   ]
  },
  {
   "cell_type": "code",
   "execution_count": 1,
   "metadata": {},
   "outputs": [],
   "source": [
    "import pandas as pd\n",
    "import numpy as np\n",
    "import datetime as dt\n",
    "import seaborn as sns\n",
    "from pathlib import Path\n",
    "%matplotlib inline"
   ]
  },
  {
   "cell_type": "markdown",
   "metadata": {},
   "source": [
    "# Data Cleaning\n",
    "\n",
    "In this section, you will need to read the CSV files into DataFrames and perform any necessary data cleaning steps. After cleaning, combine all DataFrames into a single DataFrame.\n",
    "\n",
    "Files:\n",
    "1. whale_returns.csv\n",
    "2. algo_returns.csv\n",
    "3. sp500_history.csv"
   ]
  },
  {
   "cell_type": "markdown",
   "metadata": {},
   "source": [
    "## Whale Returns\n",
    "\n",
    "Read the Whale Portfolio daily returns and clean the data"
   ]
  },
  {
   "cell_type": "code",
   "execution_count": 2,
   "metadata": {},
   "outputs": [
    {
     "data": {
      "text/html": [
       "<div>\n",
       "<style scoped>\n",
       "    .dataframe tbody tr th:only-of-type {\n",
       "        vertical-align: middle;\n",
       "    }\n",
       "\n",
       "    .dataframe tbody tr th {\n",
       "        vertical-align: top;\n",
       "    }\n",
       "\n",
       "    .dataframe thead th {\n",
       "        text-align: right;\n",
       "    }\n",
       "</style>\n",
       "<table border=\"1\" class=\"dataframe\">\n",
       "  <thead>\n",
       "    <tr style=\"text-align: right;\">\n",
       "      <th></th>\n",
       "      <th>Date</th>\n",
       "      <th>SOROS FUND MANAGEMENT LLC</th>\n",
       "      <th>PAULSON &amp; CO.INC.</th>\n",
       "      <th>TIGER GLOBAL MANAGEMENT LLC</th>\n",
       "      <th>BERKSHIRE HATHAWAY INC</th>\n",
       "    </tr>\n",
       "  </thead>\n",
       "  <tbody>\n",
       "    <tr>\n",
       "      <td>0</td>\n",
       "      <td>2015-03-02</td>\n",
       "      <td>NaN</td>\n",
       "      <td>NaN</td>\n",
       "      <td>NaN</td>\n",
       "      <td>NaN</td>\n",
       "    </tr>\n",
       "    <tr>\n",
       "      <td>1</td>\n",
       "      <td>2015-03-03</td>\n",
       "      <td>-0.001266</td>\n",
       "      <td>-0.004981</td>\n",
       "      <td>-0.000496</td>\n",
       "      <td>-0.006569</td>\n",
       "    </tr>\n",
       "    <tr>\n",
       "      <td>2</td>\n",
       "      <td>2015-03-04</td>\n",
       "      <td>0.002230</td>\n",
       "      <td>0.003241</td>\n",
       "      <td>-0.002534</td>\n",
       "      <td>0.004213</td>\n",
       "    </tr>\n",
       "    <tr>\n",
       "      <td>3</td>\n",
       "      <td>2015-03-05</td>\n",
       "      <td>0.004016</td>\n",
       "      <td>0.004076</td>\n",
       "      <td>0.002355</td>\n",
       "      <td>0.006726</td>\n",
       "    </tr>\n",
       "    <tr>\n",
       "      <td>4</td>\n",
       "      <td>2015-03-06</td>\n",
       "      <td>-0.007905</td>\n",
       "      <td>-0.003574</td>\n",
       "      <td>-0.008481</td>\n",
       "      <td>-0.013098</td>\n",
       "    </tr>\n",
       "  </tbody>\n",
       "</table>\n",
       "</div>"
      ],
      "text/plain": [
       "         Date  SOROS FUND MANAGEMENT LLC  PAULSON & CO.INC.   \\\n",
       "0  2015-03-02                        NaN                 NaN   \n",
       "1  2015-03-03                  -0.001266           -0.004981   \n",
       "2  2015-03-04                   0.002230            0.003241   \n",
       "3  2015-03-05                   0.004016            0.004076   \n",
       "4  2015-03-06                  -0.007905           -0.003574   \n",
       "\n",
       "   TIGER GLOBAL MANAGEMENT LLC  BERKSHIRE HATHAWAY INC  \n",
       "0                          NaN                     NaN  \n",
       "1                    -0.000496               -0.006569  \n",
       "2                    -0.002534                0.004213  \n",
       "3                     0.002355                0.006726  \n",
       "4                    -0.008481               -0.013098  "
      ]
     },
     "execution_count": 2,
     "metadata": {},
     "output_type": "execute_result"
    }
   ],
   "source": [
    "# Reading whale returns\n",
    "csv_path = Path(\"./Resources/whale_returns.csv\")\n",
    "whale_returns_csv = pd.read_csv(csv_path) \n",
    "whale_returns_csv.head()"
   ]
  },
  {
   "cell_type": "code",
   "execution_count": 3,
   "metadata": {},
   "outputs": [
    {
     "data": {
      "text/html": [
       "<div>\n",
       "<style scoped>\n",
       "    .dataframe tbody tr th:only-of-type {\n",
       "        vertical-align: middle;\n",
       "    }\n",
       "\n",
       "    .dataframe tbody tr th {\n",
       "        vertical-align: top;\n",
       "    }\n",
       "\n",
       "    .dataframe thead th {\n",
       "        text-align: right;\n",
       "    }\n",
       "</style>\n",
       "<table border=\"1\" class=\"dataframe\">\n",
       "  <thead>\n",
       "    <tr style=\"text-align: right;\">\n",
       "      <th></th>\n",
       "      <th>SOROS FUND MANAGEMENT LLC</th>\n",
       "      <th>PAULSON &amp; CO.INC.</th>\n",
       "      <th>TIGER GLOBAL MANAGEMENT LLC</th>\n",
       "      <th>BERKSHIRE HATHAWAY INC</th>\n",
       "    </tr>\n",
       "    <tr>\n",
       "      <th>Date</th>\n",
       "      <th></th>\n",
       "      <th></th>\n",
       "      <th></th>\n",
       "      <th></th>\n",
       "    </tr>\n",
       "  </thead>\n",
       "  <tbody>\n",
       "    <tr>\n",
       "      <td>2015-03-02</td>\n",
       "      <td>NaN</td>\n",
       "      <td>NaN</td>\n",
       "      <td>NaN</td>\n",
       "      <td>NaN</td>\n",
       "    </tr>\n",
       "    <tr>\n",
       "      <td>2015-03-03</td>\n",
       "      <td>-0.001266</td>\n",
       "      <td>-0.004981</td>\n",
       "      <td>-0.000496</td>\n",
       "      <td>-0.006569</td>\n",
       "    </tr>\n",
       "    <tr>\n",
       "      <td>2015-03-04</td>\n",
       "      <td>0.002230</td>\n",
       "      <td>0.003241</td>\n",
       "      <td>-0.002534</td>\n",
       "      <td>0.004213</td>\n",
       "    </tr>\n",
       "    <tr>\n",
       "      <td>2015-03-05</td>\n",
       "      <td>0.004016</td>\n",
       "      <td>0.004076</td>\n",
       "      <td>0.002355</td>\n",
       "      <td>0.006726</td>\n",
       "    </tr>\n",
       "    <tr>\n",
       "      <td>2015-03-06</td>\n",
       "      <td>-0.007905</td>\n",
       "      <td>-0.003574</td>\n",
       "      <td>-0.008481</td>\n",
       "      <td>-0.013098</td>\n",
       "    </tr>\n",
       "  </tbody>\n",
       "</table>\n",
       "</div>"
      ],
      "text/plain": [
       "            SOROS FUND MANAGEMENT LLC  PAULSON & CO.INC.   \\\n",
       "Date                                                        \n",
       "2015-03-02                        NaN                 NaN   \n",
       "2015-03-03                  -0.001266           -0.004981   \n",
       "2015-03-04                   0.002230            0.003241   \n",
       "2015-03-05                   0.004016            0.004076   \n",
       "2015-03-06                  -0.007905           -0.003574   \n",
       "\n",
       "            TIGER GLOBAL MANAGEMENT LLC  BERKSHIRE HATHAWAY INC  \n",
       "Date                                                             \n",
       "2015-03-02                          NaN                     NaN  \n",
       "2015-03-03                    -0.000496               -0.006569  \n",
       "2015-03-04                    -0.002534                0.004213  \n",
       "2015-03-05                     0.002355                0.006726  \n",
       "2015-03-06                    -0.008481               -0.013098  "
      ]
     },
     "execution_count": 3,
     "metadata": {},
     "output_type": "execute_result"
    }
   ],
   "source": [
    "whale_returns_csv.set_index(pd.to_datetime(whale_returns_csv['Date'], infer_datetime_format=True), inplace=True)\n",
    "whale_returns_csv.drop(columns=['Date'], inplace=True)\n",
    "whale_returns_csv.head()"
   ]
  },
  {
   "cell_type": "code",
   "execution_count": 4,
   "metadata": {},
   "outputs": [
    {
     "data": {
      "text/plain": [
       "SOROS FUND MANAGEMENT LLC      float64\n",
       "PAULSON & CO.INC.              float64\n",
       "TIGER GLOBAL MANAGEMENT LLC    float64\n",
       "BERKSHIRE HATHAWAY INC         float64\n",
       "dtype: object"
      ]
     },
     "execution_count": 4,
     "metadata": {},
     "output_type": "execute_result"
    }
   ],
   "source": [
    "# Count nulls\n",
    "whale_returns_csv.dtypes"
   ]
  },
  {
   "cell_type": "code",
   "execution_count": 5,
   "metadata": {},
   "outputs": [
    {
     "data": {
      "text/html": [
       "<div>\n",
       "<style scoped>\n",
       "    .dataframe tbody tr th:only-of-type {\n",
       "        vertical-align: middle;\n",
       "    }\n",
       "\n",
       "    .dataframe tbody tr th {\n",
       "        vertical-align: top;\n",
       "    }\n",
       "\n",
       "    .dataframe thead th {\n",
       "        text-align: right;\n",
       "    }\n",
       "</style>\n",
       "<table border=\"1\" class=\"dataframe\">\n",
       "  <thead>\n",
       "    <tr style=\"text-align: right;\">\n",
       "      <th></th>\n",
       "      <th>SOROS FUND MANAGEMENT LLC</th>\n",
       "      <th>PAULSON &amp; CO.INC.</th>\n",
       "      <th>TIGER GLOBAL MANAGEMENT LLC</th>\n",
       "      <th>BERKSHIRE HATHAWAY INC</th>\n",
       "    </tr>\n",
       "    <tr>\n",
       "      <th>Date</th>\n",
       "      <th></th>\n",
       "      <th></th>\n",
       "      <th></th>\n",
       "      <th></th>\n",
       "    </tr>\n",
       "  </thead>\n",
       "  <tbody>\n",
       "    <tr>\n",
       "      <td>2015-03-02</td>\n",
       "      <td>True</td>\n",
       "      <td>True</td>\n",
       "      <td>True</td>\n",
       "      <td>True</td>\n",
       "    </tr>\n",
       "    <tr>\n",
       "      <td>2015-03-03</td>\n",
       "      <td>False</td>\n",
       "      <td>False</td>\n",
       "      <td>False</td>\n",
       "      <td>False</td>\n",
       "    </tr>\n",
       "    <tr>\n",
       "      <td>2015-03-04</td>\n",
       "      <td>False</td>\n",
       "      <td>False</td>\n",
       "      <td>False</td>\n",
       "      <td>False</td>\n",
       "    </tr>\n",
       "    <tr>\n",
       "      <td>2015-03-05</td>\n",
       "      <td>False</td>\n",
       "      <td>False</td>\n",
       "      <td>False</td>\n",
       "      <td>False</td>\n",
       "    </tr>\n",
       "    <tr>\n",
       "      <td>2015-03-06</td>\n",
       "      <td>False</td>\n",
       "      <td>False</td>\n",
       "      <td>False</td>\n",
       "      <td>False</td>\n",
       "    </tr>\n",
       "    <tr>\n",
       "      <td>...</td>\n",
       "      <td>...</td>\n",
       "      <td>...</td>\n",
       "      <td>...</td>\n",
       "      <td>...</td>\n",
       "    </tr>\n",
       "    <tr>\n",
       "      <td>2019-04-25</td>\n",
       "      <td>False</td>\n",
       "      <td>False</td>\n",
       "      <td>False</td>\n",
       "      <td>False</td>\n",
       "    </tr>\n",
       "    <tr>\n",
       "      <td>2019-04-26</td>\n",
       "      <td>False</td>\n",
       "      <td>False</td>\n",
       "      <td>False</td>\n",
       "      <td>False</td>\n",
       "    </tr>\n",
       "    <tr>\n",
       "      <td>2019-04-29</td>\n",
       "      <td>False</td>\n",
       "      <td>False</td>\n",
       "      <td>False</td>\n",
       "      <td>False</td>\n",
       "    </tr>\n",
       "    <tr>\n",
       "      <td>2019-04-30</td>\n",
       "      <td>False</td>\n",
       "      <td>False</td>\n",
       "      <td>False</td>\n",
       "      <td>False</td>\n",
       "    </tr>\n",
       "    <tr>\n",
       "      <td>2019-05-01</td>\n",
       "      <td>False</td>\n",
       "      <td>False</td>\n",
       "      <td>False</td>\n",
       "      <td>False</td>\n",
       "    </tr>\n",
       "  </tbody>\n",
       "</table>\n",
       "<p>1060 rows × 4 columns</p>\n",
       "</div>"
      ],
      "text/plain": [
       "            SOROS FUND MANAGEMENT LLC  PAULSON & CO.INC.   \\\n",
       "Date                                                        \n",
       "2015-03-02                       True                True   \n",
       "2015-03-03                      False               False   \n",
       "2015-03-04                      False               False   \n",
       "2015-03-05                      False               False   \n",
       "2015-03-06                      False               False   \n",
       "...                               ...                 ...   \n",
       "2019-04-25                      False               False   \n",
       "2019-04-26                      False               False   \n",
       "2019-04-29                      False               False   \n",
       "2019-04-30                      False               False   \n",
       "2019-05-01                      False               False   \n",
       "\n",
       "            TIGER GLOBAL MANAGEMENT LLC  BERKSHIRE HATHAWAY INC  \n",
       "Date                                                             \n",
       "2015-03-02                         True                    True  \n",
       "2015-03-03                        False                   False  \n",
       "2015-03-04                        False                   False  \n",
       "2015-03-05                        False                   False  \n",
       "2015-03-06                        False                   False  \n",
       "...                                 ...                     ...  \n",
       "2019-04-25                        False                   False  \n",
       "2019-04-26                        False                   False  \n",
       "2019-04-29                        False                   False  \n",
       "2019-04-30                        False                   False  \n",
       "2019-05-01                        False                   False  \n",
       "\n",
       "[1060 rows x 4 columns]"
      ]
     },
     "execution_count": 5,
     "metadata": {},
     "output_type": "execute_result"
    }
   ],
   "source": [
    "#count nulls\n",
    "whale_returns_csv.isnull()\n"
   ]
  },
  {
   "cell_type": "code",
   "execution_count": 6,
   "metadata": {},
   "outputs": [
    {
     "data": {
      "text/html": [
       "<div>\n",
       "<style scoped>\n",
       "    .dataframe tbody tr th:only-of-type {\n",
       "        vertical-align: middle;\n",
       "    }\n",
       "\n",
       "    .dataframe tbody tr th {\n",
       "        vertical-align: top;\n",
       "    }\n",
       "\n",
       "    .dataframe thead th {\n",
       "        text-align: right;\n",
       "    }\n",
       "</style>\n",
       "<table border=\"1\" class=\"dataframe\">\n",
       "  <thead>\n",
       "    <tr style=\"text-align: right;\">\n",
       "      <th></th>\n",
       "      <th>SOROS FUND MANAGEMENT LLC</th>\n",
       "      <th>PAULSON &amp; CO.INC.</th>\n",
       "      <th>TIGER GLOBAL MANAGEMENT LLC</th>\n",
       "      <th>BERKSHIRE HATHAWAY INC</th>\n",
       "    </tr>\n",
       "    <tr>\n",
       "      <th>Date</th>\n",
       "      <th></th>\n",
       "      <th></th>\n",
       "      <th></th>\n",
       "      <th></th>\n",
       "    </tr>\n",
       "  </thead>\n",
       "  <tbody>\n",
       "    <tr>\n",
       "      <td>2015-03-03</td>\n",
       "      <td>-0.001266</td>\n",
       "      <td>-0.004981</td>\n",
       "      <td>-0.000496</td>\n",
       "      <td>-0.006569</td>\n",
       "    </tr>\n",
       "    <tr>\n",
       "      <td>2015-03-04</td>\n",
       "      <td>0.002230</td>\n",
       "      <td>0.003241</td>\n",
       "      <td>-0.002534</td>\n",
       "      <td>0.004213</td>\n",
       "    </tr>\n",
       "    <tr>\n",
       "      <td>2015-03-05</td>\n",
       "      <td>0.004016</td>\n",
       "      <td>0.004076</td>\n",
       "      <td>0.002355</td>\n",
       "      <td>0.006726</td>\n",
       "    </tr>\n",
       "    <tr>\n",
       "      <td>2015-03-06</td>\n",
       "      <td>-0.007905</td>\n",
       "      <td>-0.003574</td>\n",
       "      <td>-0.008481</td>\n",
       "      <td>-0.013098</td>\n",
       "    </tr>\n",
       "    <tr>\n",
       "      <td>2015-03-09</td>\n",
       "      <td>0.000582</td>\n",
       "      <td>0.004225</td>\n",
       "      <td>0.005843</td>\n",
       "      <td>-0.001652</td>\n",
       "    </tr>\n",
       "    <tr>\n",
       "      <td>...</td>\n",
       "      <td>...</td>\n",
       "      <td>...</td>\n",
       "      <td>...</td>\n",
       "      <td>...</td>\n",
       "    </tr>\n",
       "    <tr>\n",
       "      <td>2019-04-25</td>\n",
       "      <td>-0.000285</td>\n",
       "      <td>-0.001291</td>\n",
       "      <td>-0.005153</td>\n",
       "      <td>0.004848</td>\n",
       "    </tr>\n",
       "    <tr>\n",
       "      <td>2019-04-26</td>\n",
       "      <td>0.008149</td>\n",
       "      <td>0.009162</td>\n",
       "      <td>0.012355</td>\n",
       "      <td>0.010434</td>\n",
       "    </tr>\n",
       "    <tr>\n",
       "      <td>2019-04-29</td>\n",
       "      <td>0.001254</td>\n",
       "      <td>0.002719</td>\n",
       "      <td>0.006251</td>\n",
       "      <td>0.005223</td>\n",
       "    </tr>\n",
       "    <tr>\n",
       "      <td>2019-04-30</td>\n",
       "      <td>-0.001295</td>\n",
       "      <td>-0.002211</td>\n",
       "      <td>-0.000259</td>\n",
       "      <td>-0.003702</td>\n",
       "    </tr>\n",
       "    <tr>\n",
       "      <td>2019-05-01</td>\n",
       "      <td>-0.005847</td>\n",
       "      <td>-0.001341</td>\n",
       "      <td>-0.007936</td>\n",
       "      <td>-0.007833</td>\n",
       "    </tr>\n",
       "  </tbody>\n",
       "</table>\n",
       "<p>1059 rows × 4 columns</p>\n",
       "</div>"
      ],
      "text/plain": [
       "            SOROS FUND MANAGEMENT LLC  PAULSON & CO.INC.   \\\n",
       "Date                                                        \n",
       "2015-03-03                  -0.001266           -0.004981   \n",
       "2015-03-04                   0.002230            0.003241   \n",
       "2015-03-05                   0.004016            0.004076   \n",
       "2015-03-06                  -0.007905           -0.003574   \n",
       "2015-03-09                   0.000582            0.004225   \n",
       "...                               ...                 ...   \n",
       "2019-04-25                  -0.000285           -0.001291   \n",
       "2019-04-26                   0.008149            0.009162   \n",
       "2019-04-29                   0.001254            0.002719   \n",
       "2019-04-30                  -0.001295           -0.002211   \n",
       "2019-05-01                  -0.005847           -0.001341   \n",
       "\n",
       "            TIGER GLOBAL MANAGEMENT LLC  BERKSHIRE HATHAWAY INC  \n",
       "Date                                                             \n",
       "2015-03-03                    -0.000496               -0.006569  \n",
       "2015-03-04                    -0.002534                0.004213  \n",
       "2015-03-05                     0.002355                0.006726  \n",
       "2015-03-06                    -0.008481               -0.013098  \n",
       "2015-03-09                     0.005843               -0.001652  \n",
       "...                                 ...                     ...  \n",
       "2019-04-25                    -0.005153                0.004848  \n",
       "2019-04-26                     0.012355                0.010434  \n",
       "2019-04-29                     0.006251                0.005223  \n",
       "2019-04-30                    -0.000259               -0.003702  \n",
       "2019-05-01                    -0.007936               -0.007833  \n",
       "\n",
       "[1059 rows x 4 columns]"
      ]
     },
     "execution_count": 6,
     "metadata": {},
     "output_type": "execute_result"
    }
   ],
   "source": [
    "whale_returns_csv.dropna(inplace=True)\n",
    "whale_returns_csv"
   ]
  },
  {
   "cell_type": "code",
   "execution_count": 7,
   "metadata": {},
   "outputs": [
    {
     "data": {
      "text/plain": [
       "(1059, 4)"
      ]
     },
     "execution_count": 7,
     "metadata": {},
     "output_type": "execute_result"
    }
   ],
   "source": [
    "whale_returns_csv.shape\n"
   ]
  },
  {
   "cell_type": "code",
   "execution_count": 8,
   "metadata": {},
   "outputs": [
    {
     "data": {
      "text/plain": [
       "SOROS FUND MANAGEMENT LLC      0\n",
       "PAULSON & CO.INC.              0\n",
       "TIGER GLOBAL MANAGEMENT LLC    0\n",
       "BERKSHIRE HATHAWAY INC         0\n",
       "dtype: int64"
      ]
     },
     "execution_count": 8,
     "metadata": {},
     "output_type": "execute_result"
    }
   ],
   "source": [
    "whale_returns_csv.isnull().sum()"
   ]
  },
  {
   "cell_type": "code",
   "execution_count": 9,
   "metadata": {},
   "outputs": [],
   "source": [
    "whale_returns_csv.to_csv(\"./Resources/whale_cleansed.csv\", index=False)"
   ]
  },
  {
   "cell_type": "markdown",
   "metadata": {},
   "source": [
    "## Algorithmic Daily Returns\n",
    "\n",
    "Read the algorithmic daily returns and clean the data"
   ]
  },
  {
   "cell_type": "code",
   "execution_count": 10,
   "metadata": {},
   "outputs": [
    {
     "data": {
      "text/html": [
       "<div>\n",
       "<style scoped>\n",
       "    .dataframe tbody tr th:only-of-type {\n",
       "        vertical-align: middle;\n",
       "    }\n",
       "\n",
       "    .dataframe tbody tr th {\n",
       "        vertical-align: top;\n",
       "    }\n",
       "\n",
       "    .dataframe thead th {\n",
       "        text-align: right;\n",
       "    }\n",
       "</style>\n",
       "<table border=\"1\" class=\"dataframe\">\n",
       "  <thead>\n",
       "    <tr style=\"text-align: right;\">\n",
       "      <th></th>\n",
       "      <th>Date</th>\n",
       "      <th>Algo 1</th>\n",
       "      <th>Algo 2</th>\n",
       "    </tr>\n",
       "  </thead>\n",
       "  <tbody>\n",
       "    <tr>\n",
       "      <td>0</td>\n",
       "      <td>2014-05-28</td>\n",
       "      <td>0.001745</td>\n",
       "      <td>NaN</td>\n",
       "    </tr>\n",
       "    <tr>\n",
       "      <td>1</td>\n",
       "      <td>2014-05-29</td>\n",
       "      <td>0.003978</td>\n",
       "      <td>NaN</td>\n",
       "    </tr>\n",
       "    <tr>\n",
       "      <td>2</td>\n",
       "      <td>2014-05-30</td>\n",
       "      <td>0.004464</td>\n",
       "      <td>NaN</td>\n",
       "    </tr>\n",
       "    <tr>\n",
       "      <td>3</td>\n",
       "      <td>2014-06-02</td>\n",
       "      <td>0.005692</td>\n",
       "      <td>NaN</td>\n",
       "    </tr>\n",
       "    <tr>\n",
       "      <td>4</td>\n",
       "      <td>2014-06-03</td>\n",
       "      <td>0.005292</td>\n",
       "      <td>NaN</td>\n",
       "    </tr>\n",
       "  </tbody>\n",
       "</table>\n",
       "</div>"
      ],
      "text/plain": [
       "         Date    Algo 1  Algo 2\n",
       "0  2014-05-28  0.001745     NaN\n",
       "1  2014-05-29  0.003978     NaN\n",
       "2  2014-05-30  0.004464     NaN\n",
       "3  2014-06-02  0.005692     NaN\n",
       "4  2014-06-03  0.005292     NaN"
      ]
     },
     "execution_count": 10,
     "metadata": {},
     "output_type": "execute_result"
    }
   ],
   "source": [
    "# Reading algorithmic returns\n",
    "csv_path = Path(\"./Resources/algo_returns.csv\")\n",
    "algo_returns_csv = pd.read_csv(csv_path) \n",
    "algo_returns_csv.head()\n"
   ]
  },
  {
   "cell_type": "code",
   "execution_count": 11,
   "metadata": {},
   "outputs": [
    {
     "data": {
      "text/html": [
       "<div>\n",
       "<style scoped>\n",
       "    .dataframe tbody tr th:only-of-type {\n",
       "        vertical-align: middle;\n",
       "    }\n",
       "\n",
       "    .dataframe tbody tr th {\n",
       "        vertical-align: top;\n",
       "    }\n",
       "\n",
       "    .dataframe thead th {\n",
       "        text-align: right;\n",
       "    }\n",
       "</style>\n",
       "<table border=\"1\" class=\"dataframe\">\n",
       "  <thead>\n",
       "    <tr style=\"text-align: right;\">\n",
       "      <th></th>\n",
       "      <th>Algo 1</th>\n",
       "      <th>Algo 2</th>\n",
       "    </tr>\n",
       "    <tr>\n",
       "      <th>Date</th>\n",
       "      <th></th>\n",
       "      <th></th>\n",
       "    </tr>\n",
       "  </thead>\n",
       "  <tbody>\n",
       "    <tr>\n",
       "      <td>2014-05-28</td>\n",
       "      <td>0.001745</td>\n",
       "      <td>NaN</td>\n",
       "    </tr>\n",
       "    <tr>\n",
       "      <td>2014-05-29</td>\n",
       "      <td>0.003978</td>\n",
       "      <td>NaN</td>\n",
       "    </tr>\n",
       "    <tr>\n",
       "      <td>2014-05-30</td>\n",
       "      <td>0.004464</td>\n",
       "      <td>NaN</td>\n",
       "    </tr>\n",
       "    <tr>\n",
       "      <td>2014-06-02</td>\n",
       "      <td>0.005692</td>\n",
       "      <td>NaN</td>\n",
       "    </tr>\n",
       "    <tr>\n",
       "      <td>2014-06-03</td>\n",
       "      <td>0.005292</td>\n",
       "      <td>NaN</td>\n",
       "    </tr>\n",
       "  </tbody>\n",
       "</table>\n",
       "</div>"
      ],
      "text/plain": [
       "              Algo 1  Algo 2\n",
       "Date                        \n",
       "2014-05-28  0.001745     NaN\n",
       "2014-05-29  0.003978     NaN\n",
       "2014-05-30  0.004464     NaN\n",
       "2014-06-02  0.005692     NaN\n",
       "2014-06-03  0.005292     NaN"
      ]
     },
     "execution_count": 11,
     "metadata": {},
     "output_type": "execute_result"
    }
   ],
   "source": [
    "algo_returns_csv.set_index(pd.to_datetime(algo_returns_csv['Date'], infer_datetime_format=True), inplace=True)\n",
    "algo_returns_csv.drop(columns=['Date'], inplace=True)\n",
    "algo_returns_csv.head()"
   ]
  },
  {
   "cell_type": "code",
   "execution_count": 12,
   "metadata": {},
   "outputs": [
    {
     "data": {
      "text/plain": [
       "Algo 1    float64\n",
       "Algo 2    float64\n",
       "dtype: object"
      ]
     },
     "execution_count": 12,
     "metadata": {},
     "output_type": "execute_result"
    }
   ],
   "source": [
    "algo_returns_csv.dtypes"
   ]
  },
  {
   "cell_type": "code",
   "execution_count": 13,
   "metadata": {},
   "outputs": [
    {
     "data": {
      "text/plain": [
       "Algo 1    1241\n",
       "Algo 2    1235\n",
       "dtype: int64"
      ]
     },
     "execution_count": 13,
     "metadata": {},
     "output_type": "execute_result"
    }
   ],
   "source": [
    "algo_returns_csv.count()"
   ]
  },
  {
   "cell_type": "code",
   "execution_count": 14,
   "metadata": {},
   "outputs": [
    {
     "data": {
      "text/html": [
       "<div>\n",
       "<style scoped>\n",
       "    .dataframe tbody tr th:only-of-type {\n",
       "        vertical-align: middle;\n",
       "    }\n",
       "\n",
       "    .dataframe tbody tr th {\n",
       "        vertical-align: top;\n",
       "    }\n",
       "\n",
       "    .dataframe thead th {\n",
       "        text-align: right;\n",
       "    }\n",
       "</style>\n",
       "<table border=\"1\" class=\"dataframe\">\n",
       "  <thead>\n",
       "    <tr style=\"text-align: right;\">\n",
       "      <th></th>\n",
       "      <th>Algo 1</th>\n",
       "      <th>Algo 2</th>\n",
       "    </tr>\n",
       "    <tr>\n",
       "      <th>Date</th>\n",
       "      <th></th>\n",
       "      <th></th>\n",
       "    </tr>\n",
       "  </thead>\n",
       "  <tbody>\n",
       "    <tr>\n",
       "      <td>2014-05-28</td>\n",
       "      <td>False</td>\n",
       "      <td>True</td>\n",
       "    </tr>\n",
       "    <tr>\n",
       "      <td>2014-05-29</td>\n",
       "      <td>False</td>\n",
       "      <td>True</td>\n",
       "    </tr>\n",
       "    <tr>\n",
       "      <td>2014-05-30</td>\n",
       "      <td>False</td>\n",
       "      <td>True</td>\n",
       "    </tr>\n",
       "    <tr>\n",
       "      <td>2014-06-02</td>\n",
       "      <td>False</td>\n",
       "      <td>True</td>\n",
       "    </tr>\n",
       "    <tr>\n",
       "      <td>2014-06-03</td>\n",
       "      <td>False</td>\n",
       "      <td>True</td>\n",
       "    </tr>\n",
       "    <tr>\n",
       "      <td>...</td>\n",
       "      <td>...</td>\n",
       "      <td>...</td>\n",
       "    </tr>\n",
       "    <tr>\n",
       "      <td>2019-04-25</td>\n",
       "      <td>False</td>\n",
       "      <td>False</td>\n",
       "    </tr>\n",
       "    <tr>\n",
       "      <td>2019-04-26</td>\n",
       "      <td>False</td>\n",
       "      <td>False</td>\n",
       "    </tr>\n",
       "    <tr>\n",
       "      <td>2019-04-29</td>\n",
       "      <td>False</td>\n",
       "      <td>False</td>\n",
       "    </tr>\n",
       "    <tr>\n",
       "      <td>2019-04-30</td>\n",
       "      <td>False</td>\n",
       "      <td>False</td>\n",
       "    </tr>\n",
       "    <tr>\n",
       "      <td>2019-05-01</td>\n",
       "      <td>False</td>\n",
       "      <td>False</td>\n",
       "    </tr>\n",
       "  </tbody>\n",
       "</table>\n",
       "<p>1241 rows × 2 columns</p>\n",
       "</div>"
      ],
      "text/plain": [
       "            Algo 1  Algo 2\n",
       "Date                      \n",
       "2014-05-28   False    True\n",
       "2014-05-29   False    True\n",
       "2014-05-30   False    True\n",
       "2014-06-02   False    True\n",
       "2014-06-03   False    True\n",
       "...            ...     ...\n",
       "2019-04-25   False   False\n",
       "2019-04-26   False   False\n",
       "2019-04-29   False   False\n",
       "2019-04-30   False   False\n",
       "2019-05-01   False   False\n",
       "\n",
       "[1241 rows x 2 columns]"
      ]
     },
     "execution_count": 14,
     "metadata": {},
     "output_type": "execute_result"
    }
   ],
   "source": [
    "algo_returns_csv.isnull()"
   ]
  },
  {
   "cell_type": "code",
   "execution_count": 15,
   "metadata": {},
   "outputs": [
    {
     "data": {
      "text/plain": [
       "Algo 1    0\n",
       "Algo 2    6\n",
       "dtype: int64"
      ]
     },
     "execution_count": 15,
     "metadata": {},
     "output_type": "execute_result"
    }
   ],
   "source": [
    "algo_returns_csv.isnull().sum()"
   ]
  },
  {
   "cell_type": "code",
   "execution_count": 16,
   "metadata": {},
   "outputs": [
    {
     "data": {
      "text/html": [
       "<div>\n",
       "<style scoped>\n",
       "    .dataframe tbody tr th:only-of-type {\n",
       "        vertical-align: middle;\n",
       "    }\n",
       "\n",
       "    .dataframe tbody tr th {\n",
       "        vertical-align: top;\n",
       "    }\n",
       "\n",
       "    .dataframe thead th {\n",
       "        text-align: right;\n",
       "    }\n",
       "</style>\n",
       "<table border=\"1\" class=\"dataframe\">\n",
       "  <thead>\n",
       "    <tr style=\"text-align: right;\">\n",
       "      <th></th>\n",
       "      <th>Algo 1</th>\n",
       "      <th>Algo 2</th>\n",
       "    </tr>\n",
       "    <tr>\n",
       "      <th>Date</th>\n",
       "      <th></th>\n",
       "      <th></th>\n",
       "    </tr>\n",
       "  </thead>\n",
       "  <tbody>\n",
       "    <tr>\n",
       "      <td>2014-06-05</td>\n",
       "      <td>0.004062</td>\n",
       "      <td>0.013285</td>\n",
       "    </tr>\n",
       "    <tr>\n",
       "      <td>2014-06-06</td>\n",
       "      <td>0.001857</td>\n",
       "      <td>0.008284</td>\n",
       "    </tr>\n",
       "    <tr>\n",
       "      <td>2014-06-09</td>\n",
       "      <td>-0.005012</td>\n",
       "      <td>0.005668</td>\n",
       "    </tr>\n",
       "    <tr>\n",
       "      <td>2014-06-10</td>\n",
       "      <td>0.004406</td>\n",
       "      <td>-0.000735</td>\n",
       "    </tr>\n",
       "    <tr>\n",
       "      <td>2014-06-11</td>\n",
       "      <td>0.004760</td>\n",
       "      <td>-0.003761</td>\n",
       "    </tr>\n",
       "    <tr>\n",
       "      <td>...</td>\n",
       "      <td>...</td>\n",
       "      <td>...</td>\n",
       "    </tr>\n",
       "    <tr>\n",
       "      <td>2019-04-25</td>\n",
       "      <td>0.000682</td>\n",
       "      <td>-0.007247</td>\n",
       "    </tr>\n",
       "    <tr>\n",
       "      <td>2019-04-26</td>\n",
       "      <td>0.002981</td>\n",
       "      <td>0.005256</td>\n",
       "    </tr>\n",
       "    <tr>\n",
       "      <td>2019-04-29</td>\n",
       "      <td>0.005208</td>\n",
       "      <td>0.002829</td>\n",
       "    </tr>\n",
       "    <tr>\n",
       "      <td>2019-04-30</td>\n",
       "      <td>-0.002944</td>\n",
       "      <td>-0.001570</td>\n",
       "    </tr>\n",
       "    <tr>\n",
       "      <td>2019-05-01</td>\n",
       "      <td>0.000094</td>\n",
       "      <td>-0.007358</td>\n",
       "    </tr>\n",
       "  </tbody>\n",
       "</table>\n",
       "<p>1235 rows × 2 columns</p>\n",
       "</div>"
      ],
      "text/plain": [
       "              Algo 1    Algo 2\n",
       "Date                          \n",
       "2014-06-05  0.004062  0.013285\n",
       "2014-06-06  0.001857  0.008284\n",
       "2014-06-09 -0.005012  0.005668\n",
       "2014-06-10  0.004406 -0.000735\n",
       "2014-06-11  0.004760 -0.003761\n",
       "...              ...       ...\n",
       "2019-04-25  0.000682 -0.007247\n",
       "2019-04-26  0.002981  0.005256\n",
       "2019-04-29  0.005208  0.002829\n",
       "2019-04-30 -0.002944 -0.001570\n",
       "2019-05-01  0.000094 -0.007358\n",
       "\n",
       "[1235 rows x 2 columns]"
      ]
     },
     "execution_count": 16,
     "metadata": {},
     "output_type": "execute_result"
    }
   ],
   "source": [
    "algo_returns_csv.dropna(inplace=True)\n",
    "algo_returns_csv"
   ]
  },
  {
   "cell_type": "code",
   "execution_count": 17,
   "metadata": {},
   "outputs": [
    {
     "data": {
      "text/plain": [
       "Algo 1    0\n",
       "Algo 2    0\n",
       "dtype: int64"
      ]
     },
     "execution_count": 17,
     "metadata": {},
     "output_type": "execute_result"
    }
   ],
   "source": [
    "algo_returns_csv.isnull().sum()"
   ]
  },
  {
   "cell_type": "code",
   "execution_count": 18,
   "metadata": {},
   "outputs": [],
   "source": [
    "algo_returns_csv.to_csv(\"./Resources/algo_cleansed.csv\", index=False)"
   ]
  },
  {
   "cell_type": "markdown",
   "metadata": {},
   "source": [
    "## S&P 500 Returns\n",
    "\n",
    "Read the S&P500 Historic Closing Prices and create a new daily returns DataFrame from the data. "
   ]
  },
  {
   "cell_type": "code",
   "execution_count": 19,
   "metadata": {},
   "outputs": [
    {
     "data": {
      "text/html": [
       "<div>\n",
       "<style scoped>\n",
       "    .dataframe tbody tr th:only-of-type {\n",
       "        vertical-align: middle;\n",
       "    }\n",
       "\n",
       "    .dataframe tbody tr th {\n",
       "        vertical-align: top;\n",
       "    }\n",
       "\n",
       "    .dataframe thead th {\n",
       "        text-align: right;\n",
       "    }\n",
       "</style>\n",
       "<table border=\"1\" class=\"dataframe\">\n",
       "  <thead>\n",
       "    <tr style=\"text-align: right;\">\n",
       "      <th></th>\n",
       "      <th>Date</th>\n",
       "      <th>Close</th>\n",
       "    </tr>\n",
       "  </thead>\n",
       "  <tbody>\n",
       "    <tr>\n",
       "      <td>0</td>\n",
       "      <td>23-Apr-19</td>\n",
       "      <td>$2933.68</td>\n",
       "    </tr>\n",
       "    <tr>\n",
       "      <td>1</td>\n",
       "      <td>22-Apr-19</td>\n",
       "      <td>$2907.97</td>\n",
       "    </tr>\n",
       "    <tr>\n",
       "      <td>2</td>\n",
       "      <td>18-Apr-19</td>\n",
       "      <td>$2905.03</td>\n",
       "    </tr>\n",
       "    <tr>\n",
       "      <td>3</td>\n",
       "      <td>17-Apr-19</td>\n",
       "      <td>$2900.45</td>\n",
       "    </tr>\n",
       "    <tr>\n",
       "      <td>4</td>\n",
       "      <td>16-Apr-19</td>\n",
       "      <td>$2907.06</td>\n",
       "    </tr>\n",
       "  </tbody>\n",
       "</table>\n",
       "</div>"
      ],
      "text/plain": [
       "        Date     Close\n",
       "0  23-Apr-19  $2933.68\n",
       "1  22-Apr-19  $2907.97\n",
       "2  18-Apr-19  $2905.03\n",
       "3  17-Apr-19  $2900.45\n",
       "4  16-Apr-19  $2907.06"
      ]
     },
     "execution_count": 19,
     "metadata": {},
     "output_type": "execute_result"
    }
   ],
   "source": [
    "# Reading S&P 500 Closing Prices, sorting index\n",
    "sp500_history_csv = Path(\"./Resources/sp500_history.csv\")\n",
    "sp500_df=pd.read_csv(sp500_history_csv)\n",
    "sp500_df.head()"
   ]
  },
  {
   "cell_type": "code",
   "execution_count": 20,
   "metadata": {},
   "outputs": [
    {
     "data": {
      "text/plain": [
       "Date     object\n",
       "Close    object\n",
       "dtype: object"
      ]
     },
     "execution_count": 20,
     "metadata": {},
     "output_type": "execute_result"
    }
   ],
   "source": [
    "# Check Data Types\n",
    "# YOUR CODE HERE\n",
    "sp500_df.dtypes\n"
   ]
  },
  {
   "cell_type": "code",
   "execution_count": 21,
   "metadata": {},
   "outputs": [
    {
     "data": {
      "text/html": [
       "<div>\n",
       "<style scoped>\n",
       "    .dataframe tbody tr th:only-of-type {\n",
       "        vertical-align: middle;\n",
       "    }\n",
       "\n",
       "    .dataframe tbody tr th {\n",
       "        vertical-align: top;\n",
       "    }\n",
       "\n",
       "    .dataframe thead th {\n",
       "        text-align: right;\n",
       "    }\n",
       "</style>\n",
       "<table border=\"1\" class=\"dataframe\">\n",
       "  <thead>\n",
       "    <tr style=\"text-align: right;\">\n",
       "      <th></th>\n",
       "      <th>Date</th>\n",
       "      <th>Close</th>\n",
       "    </tr>\n",
       "  </thead>\n",
       "  <tbody>\n",
       "    <tr>\n",
       "      <td>0</td>\n",
       "      <td>False</td>\n",
       "      <td>False</td>\n",
       "    </tr>\n",
       "    <tr>\n",
       "      <td>1</td>\n",
       "      <td>False</td>\n",
       "      <td>False</td>\n",
       "    </tr>\n",
       "    <tr>\n",
       "      <td>2</td>\n",
       "      <td>False</td>\n",
       "      <td>False</td>\n",
       "    </tr>\n",
       "    <tr>\n",
       "      <td>3</td>\n",
       "      <td>False</td>\n",
       "      <td>False</td>\n",
       "    </tr>\n",
       "    <tr>\n",
       "      <td>4</td>\n",
       "      <td>False</td>\n",
       "      <td>False</td>\n",
       "    </tr>\n",
       "    <tr>\n",
       "      <td>...</td>\n",
       "      <td>...</td>\n",
       "      <td>...</td>\n",
       "    </tr>\n",
       "    <tr>\n",
       "      <td>1644</td>\n",
       "      <td>False</td>\n",
       "      <td>False</td>\n",
       "    </tr>\n",
       "    <tr>\n",
       "      <td>1645</td>\n",
       "      <td>False</td>\n",
       "      <td>False</td>\n",
       "    </tr>\n",
       "    <tr>\n",
       "      <td>1646</td>\n",
       "      <td>False</td>\n",
       "      <td>False</td>\n",
       "    </tr>\n",
       "    <tr>\n",
       "      <td>1647</td>\n",
       "      <td>False</td>\n",
       "      <td>False</td>\n",
       "    </tr>\n",
       "    <tr>\n",
       "      <td>1648</td>\n",
       "      <td>False</td>\n",
       "      <td>False</td>\n",
       "    </tr>\n",
       "  </tbody>\n",
       "</table>\n",
       "<p>1649 rows × 2 columns</p>\n",
       "</div>"
      ],
      "text/plain": [
       "       Date  Close\n",
       "0     False  False\n",
       "1     False  False\n",
       "2     False  False\n",
       "3     False  False\n",
       "4     False  False\n",
       "...     ...    ...\n",
       "1644  False  False\n",
       "1645  False  False\n",
       "1646  False  False\n",
       "1647  False  False\n",
       "1648  False  False\n",
       "\n",
       "[1649 rows x 2 columns]"
      ]
     },
     "execution_count": 21,
     "metadata": {},
     "output_type": "execute_result"
    }
   ],
   "source": [
    "sp500_df.isnull()"
   ]
  },
  {
   "cell_type": "code",
   "execution_count": 22,
   "metadata": {},
   "outputs": [
    {
     "data": {
      "text/plain": [
       "Date     0\n",
       "Close    0\n",
       "dtype: int64"
      ]
     },
     "execution_count": 22,
     "metadata": {},
     "output_type": "execute_result"
    }
   ],
   "source": [
    "sp500_df.isnull().sum()"
   ]
  },
  {
   "cell_type": "code",
   "execution_count": 23,
   "metadata": {},
   "outputs": [
    {
     "data": {
      "text/html": [
       "<div>\n",
       "<style scoped>\n",
       "    .dataframe tbody tr th:only-of-type {\n",
       "        vertical-align: middle;\n",
       "    }\n",
       "\n",
       "    .dataframe tbody tr th {\n",
       "        vertical-align: top;\n",
       "    }\n",
       "\n",
       "    .dataframe thead th {\n",
       "        text-align: right;\n",
       "    }\n",
       "</style>\n",
       "<table border=\"1\" class=\"dataframe\">\n",
       "  <thead>\n",
       "    <tr style=\"text-align: right;\">\n",
       "      <th></th>\n",
       "      <th>Date</th>\n",
       "      <th>Close</th>\n",
       "    </tr>\n",
       "  </thead>\n",
       "  <tbody>\n",
       "    <tr>\n",
       "      <td>0</td>\n",
       "      <td>23-Apr-19</td>\n",
       "      <td>$2933.68</td>\n",
       "    </tr>\n",
       "    <tr>\n",
       "      <td>1</td>\n",
       "      <td>22-Apr-19</td>\n",
       "      <td>$2907.97</td>\n",
       "    </tr>\n",
       "    <tr>\n",
       "      <td>2</td>\n",
       "      <td>18-Apr-19</td>\n",
       "      <td>$2905.03</td>\n",
       "    </tr>\n",
       "    <tr>\n",
       "      <td>3</td>\n",
       "      <td>17-Apr-19</td>\n",
       "      <td>$2900.45</td>\n",
       "    </tr>\n",
       "    <tr>\n",
       "      <td>4</td>\n",
       "      <td>16-Apr-19</td>\n",
       "      <td>$2907.06</td>\n",
       "    </tr>\n",
       "    <tr>\n",
       "      <td>...</td>\n",
       "      <td>...</td>\n",
       "      <td>...</td>\n",
       "    </tr>\n",
       "    <tr>\n",
       "      <td>1644</td>\n",
       "      <td>5-Oct-12</td>\n",
       "      <td>$1460.93</td>\n",
       "    </tr>\n",
       "    <tr>\n",
       "      <td>1645</td>\n",
       "      <td>4-Oct-12</td>\n",
       "      <td>$1461.40</td>\n",
       "    </tr>\n",
       "    <tr>\n",
       "      <td>1646</td>\n",
       "      <td>3-Oct-12</td>\n",
       "      <td>$1450.99</td>\n",
       "    </tr>\n",
       "    <tr>\n",
       "      <td>1647</td>\n",
       "      <td>2-Oct-12</td>\n",
       "      <td>$1445.75</td>\n",
       "    </tr>\n",
       "    <tr>\n",
       "      <td>1648</td>\n",
       "      <td>1-Oct-12</td>\n",
       "      <td>$1444.49</td>\n",
       "    </tr>\n",
       "  </tbody>\n",
       "</table>\n",
       "<p>1649 rows × 2 columns</p>\n",
       "</div>"
      ],
      "text/plain": [
       "           Date     Close\n",
       "0     23-Apr-19  $2933.68\n",
       "1     22-Apr-19  $2907.97\n",
       "2     18-Apr-19  $2905.03\n",
       "3     17-Apr-19  $2900.45\n",
       "4     16-Apr-19  $2907.06\n",
       "...         ...       ...\n",
       "1644   5-Oct-12  $1460.93\n",
       "1645   4-Oct-12  $1461.40\n",
       "1646   3-Oct-12  $1450.99\n",
       "1647   2-Oct-12  $1445.75\n",
       "1648   1-Oct-12  $1444.49\n",
       "\n",
       "[1649 rows x 2 columns]"
      ]
     },
     "execution_count": 23,
     "metadata": {},
     "output_type": "execute_result"
    }
   ],
   "source": [
    "sp500_df.dropna(inplace=True)\n",
    "sp500_df"
   ]
  },
  {
   "cell_type": "code",
   "execution_count": 24,
   "metadata": {},
   "outputs": [
    {
     "data": {
      "text/html": [
       "<div>\n",
       "<style scoped>\n",
       "    .dataframe tbody tr th:only-of-type {\n",
       "        vertical-align: middle;\n",
       "    }\n",
       "\n",
       "    .dataframe tbody tr th {\n",
       "        vertical-align: top;\n",
       "    }\n",
       "\n",
       "    .dataframe thead th {\n",
       "        text-align: right;\n",
       "    }\n",
       "</style>\n",
       "<table border=\"1\" class=\"dataframe\">\n",
       "  <thead>\n",
       "    <tr style=\"text-align: right;\">\n",
       "      <th></th>\n",
       "      <th>Date</th>\n",
       "      <th>Close</th>\n",
       "    </tr>\n",
       "    <tr>\n",
       "      <th>Date</th>\n",
       "      <th></th>\n",
       "      <th></th>\n",
       "    </tr>\n",
       "  </thead>\n",
       "  <tbody>\n",
       "    <tr>\n",
       "      <td>2019-04-23</td>\n",
       "      <td>23-Apr-19</td>\n",
       "      <td>$2933.68</td>\n",
       "    </tr>\n",
       "    <tr>\n",
       "      <td>2019-04-22</td>\n",
       "      <td>22-Apr-19</td>\n",
       "      <td>$2907.97</td>\n",
       "    </tr>\n",
       "    <tr>\n",
       "      <td>2019-04-18</td>\n",
       "      <td>18-Apr-19</td>\n",
       "      <td>$2905.03</td>\n",
       "    </tr>\n",
       "    <tr>\n",
       "      <td>2019-04-17</td>\n",
       "      <td>17-Apr-19</td>\n",
       "      <td>$2900.45</td>\n",
       "    </tr>\n",
       "    <tr>\n",
       "      <td>2019-04-16</td>\n",
       "      <td>16-Apr-19</td>\n",
       "      <td>$2907.06</td>\n",
       "    </tr>\n",
       "  </tbody>\n",
       "</table>\n",
       "</div>"
      ],
      "text/plain": [
       "                 Date     Close\n",
       "Date                           \n",
       "2019-04-23  23-Apr-19  $2933.68\n",
       "2019-04-22  22-Apr-19  $2907.97\n",
       "2019-04-18  18-Apr-19  $2905.03\n",
       "2019-04-17  17-Apr-19  $2900.45\n",
       "2019-04-16  16-Apr-19  $2907.06"
      ]
     },
     "execution_count": 24,
     "metadata": {},
     "output_type": "execute_result"
    }
   ],
   "source": [
    "sp500_df.set_index(pd.to_datetime(sp500_df['Date'], infer_datetime_format=True), inplace=True)\n",
    "sp500_df.head()\n"
   ]
  },
  {
   "cell_type": "code",
   "execution_count": 25,
   "metadata": {},
   "outputs": [
    {
     "data": {
      "text/html": [
       "<div>\n",
       "<style scoped>\n",
       "    .dataframe tbody tr th:only-of-type {\n",
       "        vertical-align: middle;\n",
       "    }\n",
       "\n",
       "    .dataframe tbody tr th {\n",
       "        vertical-align: top;\n",
       "    }\n",
       "\n",
       "    .dataframe thead th {\n",
       "        text-align: right;\n",
       "    }\n",
       "</style>\n",
       "<table border=\"1\" class=\"dataframe\">\n",
       "  <thead>\n",
       "    <tr style=\"text-align: right;\">\n",
       "      <th></th>\n",
       "      <th>Close</th>\n",
       "    </tr>\n",
       "    <tr>\n",
       "      <th>Date</th>\n",
       "      <th></th>\n",
       "    </tr>\n",
       "  </thead>\n",
       "  <tbody>\n",
       "    <tr>\n",
       "      <td>2019-04-23</td>\n",
       "      <td>$2933.68</td>\n",
       "    </tr>\n",
       "    <tr>\n",
       "      <td>2019-04-22</td>\n",
       "      <td>$2907.97</td>\n",
       "    </tr>\n",
       "    <tr>\n",
       "      <td>2019-04-18</td>\n",
       "      <td>$2905.03</td>\n",
       "    </tr>\n",
       "    <tr>\n",
       "      <td>2019-04-17</td>\n",
       "      <td>$2900.45</td>\n",
       "    </tr>\n",
       "    <tr>\n",
       "      <td>2019-04-16</td>\n",
       "      <td>$2907.06</td>\n",
       "    </tr>\n",
       "  </tbody>\n",
       "</table>\n",
       "</div>"
      ],
      "text/plain": [
       "               Close\n",
       "Date                \n",
       "2019-04-23  $2933.68\n",
       "2019-04-22  $2907.97\n",
       "2019-04-18  $2905.03\n",
       "2019-04-17  $2900.45\n",
       "2019-04-16  $2907.06"
      ]
     },
     "execution_count": 25,
     "metadata": {},
     "output_type": "execute_result"
    }
   ],
   "source": [
    "sp500_df.drop(columns=['Date'], inplace=True)\n",
    "sp500_df.head()"
   ]
  },
  {
   "cell_type": "code",
   "execution_count": 26,
   "metadata": {},
   "outputs": [
    {
     "data": {
      "text/html": [
       "<div>\n",
       "<style scoped>\n",
       "    .dataframe tbody tr th:only-of-type {\n",
       "        vertical-align: middle;\n",
       "    }\n",
       "\n",
       "    .dataframe tbody tr th {\n",
       "        vertical-align: top;\n",
       "    }\n",
       "\n",
       "    .dataframe thead th {\n",
       "        text-align: right;\n",
       "    }\n",
       "</style>\n",
       "<table border=\"1\" class=\"dataframe\">\n",
       "  <thead>\n",
       "    <tr style=\"text-align: right;\">\n",
       "      <th></th>\n",
       "      <th>Close</th>\n",
       "    </tr>\n",
       "    <tr>\n",
       "      <th>Date</th>\n",
       "      <th></th>\n",
       "    </tr>\n",
       "  </thead>\n",
       "  <tbody>\n",
       "    <tr>\n",
       "      <td>2012-10-01</td>\n",
       "      <td>$1444.49</td>\n",
       "    </tr>\n",
       "    <tr>\n",
       "      <td>2012-10-02</td>\n",
       "      <td>$1445.75</td>\n",
       "    </tr>\n",
       "    <tr>\n",
       "      <td>2012-10-03</td>\n",
       "      <td>$1450.99</td>\n",
       "    </tr>\n",
       "    <tr>\n",
       "      <td>2012-10-04</td>\n",
       "      <td>$1461.40</td>\n",
       "    </tr>\n",
       "    <tr>\n",
       "      <td>2012-10-05</td>\n",
       "      <td>$1460.93</td>\n",
       "    </tr>\n",
       "    <tr>\n",
       "      <td>...</td>\n",
       "      <td>...</td>\n",
       "    </tr>\n",
       "    <tr>\n",
       "      <td>2019-04-16</td>\n",
       "      <td>$2907.06</td>\n",
       "    </tr>\n",
       "    <tr>\n",
       "      <td>2019-04-17</td>\n",
       "      <td>$2900.45</td>\n",
       "    </tr>\n",
       "    <tr>\n",
       "      <td>2019-04-18</td>\n",
       "      <td>$2905.03</td>\n",
       "    </tr>\n",
       "    <tr>\n",
       "      <td>2019-04-22</td>\n",
       "      <td>$2907.97</td>\n",
       "    </tr>\n",
       "    <tr>\n",
       "      <td>2019-04-23</td>\n",
       "      <td>$2933.68</td>\n",
       "    </tr>\n",
       "  </tbody>\n",
       "</table>\n",
       "<p>1649 rows × 1 columns</p>\n",
       "</div>"
      ],
      "text/plain": [
       "               Close\n",
       "Date                \n",
       "2012-10-01  $1444.49\n",
       "2012-10-02  $1445.75\n",
       "2012-10-03  $1450.99\n",
       "2012-10-04  $1461.40\n",
       "2012-10-05  $1460.93\n",
       "...              ...\n",
       "2019-04-16  $2907.06\n",
       "2019-04-17  $2900.45\n",
       "2019-04-18  $2905.03\n",
       "2019-04-22  $2907.97\n",
       "2019-04-23  $2933.68\n",
       "\n",
       "[1649 rows x 1 columns]"
      ]
     },
     "execution_count": 26,
     "metadata": {},
     "output_type": "execute_result"
    }
   ],
   "source": [
    "sp500_df.sort_index(inplace=True)\n",
    "sp500_df"
   ]
  },
  {
   "cell_type": "code",
   "execution_count": 27,
   "metadata": {},
   "outputs": [
    {
     "data": {
      "text/html": [
       "<div>\n",
       "<style scoped>\n",
       "    .dataframe tbody tr th:only-of-type {\n",
       "        vertical-align: middle;\n",
       "    }\n",
       "\n",
       "    .dataframe tbody tr th {\n",
       "        vertical-align: top;\n",
       "    }\n",
       "\n",
       "    .dataframe thead th {\n",
       "        text-align: right;\n",
       "    }\n",
       "</style>\n",
       "<table border=\"1\" class=\"dataframe\">\n",
       "  <thead>\n",
       "    <tr style=\"text-align: right;\">\n",
       "      <th></th>\n",
       "      <th>Close</th>\n",
       "    </tr>\n",
       "    <tr>\n",
       "      <th>Date</th>\n",
       "      <th></th>\n",
       "    </tr>\n",
       "  </thead>\n",
       "  <tbody>\n",
       "    <tr>\n",
       "      <td>2012-10-01</td>\n",
       "      <td>1444.49</td>\n",
       "    </tr>\n",
       "    <tr>\n",
       "      <td>2012-10-02</td>\n",
       "      <td>1445.75</td>\n",
       "    </tr>\n",
       "    <tr>\n",
       "      <td>2012-10-03</td>\n",
       "      <td>1450.99</td>\n",
       "    </tr>\n",
       "    <tr>\n",
       "      <td>2012-10-04</td>\n",
       "      <td>1461.40</td>\n",
       "    </tr>\n",
       "    <tr>\n",
       "      <td>2012-10-05</td>\n",
       "      <td>1460.93</td>\n",
       "    </tr>\n",
       "    <tr>\n",
       "      <td>...</td>\n",
       "      <td>...</td>\n",
       "    </tr>\n",
       "    <tr>\n",
       "      <td>2019-04-16</td>\n",
       "      <td>2907.06</td>\n",
       "    </tr>\n",
       "    <tr>\n",
       "      <td>2019-04-17</td>\n",
       "      <td>2900.45</td>\n",
       "    </tr>\n",
       "    <tr>\n",
       "      <td>2019-04-18</td>\n",
       "      <td>2905.03</td>\n",
       "    </tr>\n",
       "    <tr>\n",
       "      <td>2019-04-22</td>\n",
       "      <td>2907.97</td>\n",
       "    </tr>\n",
       "    <tr>\n",
       "      <td>2019-04-23</td>\n",
       "      <td>2933.68</td>\n",
       "    </tr>\n",
       "  </tbody>\n",
       "</table>\n",
       "<p>1649 rows × 1 columns</p>\n",
       "</div>"
      ],
      "text/plain": [
       "              Close\n",
       "Date               \n",
       "2012-10-01  1444.49\n",
       "2012-10-02  1445.75\n",
       "2012-10-03  1450.99\n",
       "2012-10-04  1461.40\n",
       "2012-10-05  1460.93\n",
       "...             ...\n",
       "2019-04-16  2907.06\n",
       "2019-04-17  2900.45\n",
       "2019-04-18  2905.03\n",
       "2019-04-22  2907.97\n",
       "2019-04-23  2933.68\n",
       "\n",
       "[1649 rows x 1 columns]"
      ]
     },
     "execution_count": 27,
     "metadata": {},
     "output_type": "execute_result"
    }
   ],
   "source": [
    "sp500_df['Close'] = sp500_df['Close'].map(lambda x: x.lstrip('$'))\n",
    "sp500_df\n"
   ]
  },
  {
   "cell_type": "code",
   "execution_count": 28,
   "metadata": {},
   "outputs": [
    {
     "data": {
      "text/html": [
       "<div>\n",
       "<style scoped>\n",
       "    .dataframe tbody tr th:only-of-type {\n",
       "        vertical-align: middle;\n",
       "    }\n",
       "\n",
       "    .dataframe tbody tr th {\n",
       "        vertical-align: top;\n",
       "    }\n",
       "\n",
       "    .dataframe thead th {\n",
       "        text-align: right;\n",
       "    }\n",
       "</style>\n",
       "<table border=\"1\" class=\"dataframe\">\n",
       "  <thead>\n",
       "    <tr style=\"text-align: right;\">\n",
       "      <th></th>\n",
       "      <th>Close</th>\n",
       "    </tr>\n",
       "    <tr>\n",
       "      <th>Date</th>\n",
       "      <th></th>\n",
       "    </tr>\n",
       "  </thead>\n",
       "  <tbody>\n",
       "    <tr>\n",
       "      <td>2012-10-01</td>\n",
       "      <td>NaN</td>\n",
       "    </tr>\n",
       "    <tr>\n",
       "      <td>2012-10-02</td>\n",
       "      <td>0.000872</td>\n",
       "    </tr>\n",
       "    <tr>\n",
       "      <td>2012-10-03</td>\n",
       "      <td>0.003624</td>\n",
       "    </tr>\n",
       "    <tr>\n",
       "      <td>2012-10-04</td>\n",
       "      <td>0.007174</td>\n",
       "    </tr>\n",
       "    <tr>\n",
       "      <td>2012-10-05</td>\n",
       "      <td>-0.000322</td>\n",
       "    </tr>\n",
       "  </tbody>\n",
       "</table>\n",
       "</div>"
      ],
      "text/plain": [
       "               Close\n",
       "Date                \n",
       "2012-10-01       NaN\n",
       "2012-10-02  0.000872\n",
       "2012-10-03  0.003624\n",
       "2012-10-04  0.007174\n",
       "2012-10-05 -0.000322"
      ]
     },
     "execution_count": 28,
     "metadata": {},
     "output_type": "execute_result"
    }
   ],
   "source": [
    "sp500_returns = sp500_df.astype(float).pct_change()\n",
    "sp500_returns.head()"
   ]
  },
  {
   "cell_type": "code",
   "execution_count": 29,
   "metadata": {},
   "outputs": [
    {
     "data": {
      "text/html": [
       "<div>\n",
       "<style scoped>\n",
       "    .dataframe tbody tr th:only-of-type {\n",
       "        vertical-align: middle;\n",
       "    }\n",
       "\n",
       "    .dataframe tbody tr th {\n",
       "        vertical-align: top;\n",
       "    }\n",
       "\n",
       "    .dataframe thead th {\n",
       "        text-align: right;\n",
       "    }\n",
       "</style>\n",
       "<table border=\"1\" class=\"dataframe\">\n",
       "  <thead>\n",
       "    <tr style=\"text-align: right;\">\n",
       "      <th></th>\n",
       "      <th>SP500</th>\n",
       "    </tr>\n",
       "    <tr>\n",
       "      <th>Date</th>\n",
       "      <th></th>\n",
       "    </tr>\n",
       "  </thead>\n",
       "  <tbody>\n",
       "    <tr>\n",
       "      <td>2012-10-01</td>\n",
       "      <td>NaN</td>\n",
       "    </tr>\n",
       "    <tr>\n",
       "      <td>2012-10-02</td>\n",
       "      <td>0.000872</td>\n",
       "    </tr>\n",
       "    <tr>\n",
       "      <td>2012-10-03</td>\n",
       "      <td>0.003624</td>\n",
       "    </tr>\n",
       "    <tr>\n",
       "      <td>2012-10-04</td>\n",
       "      <td>0.007174</td>\n",
       "    </tr>\n",
       "    <tr>\n",
       "      <td>2012-10-05</td>\n",
       "      <td>-0.000322</td>\n",
       "    </tr>\n",
       "  </tbody>\n",
       "</table>\n",
       "</div>"
      ],
      "text/plain": [
       "               SP500\n",
       "Date                \n",
       "2012-10-01       NaN\n",
       "2012-10-02  0.000872\n",
       "2012-10-03  0.003624\n",
       "2012-10-04  0.007174\n",
       "2012-10-05 -0.000322"
      ]
     },
     "execution_count": 29,
     "metadata": {},
     "output_type": "execute_result"
    }
   ],
   "source": [
    "sp500_returns.columns=[\"SP500\"]\n",
    "sp500_returns.head()"
   ]
  },
  {
   "cell_type": "code",
   "execution_count": 30,
   "metadata": {},
   "outputs": [],
   "source": [
    "sp500_returns.to_csv(\"./Resources/sp500_cleansed_csv\", index=False)"
   ]
  },
  {
   "cell_type": "markdown",
   "metadata": {},
   "source": [
    "## Combine Whale, Algorithmic, and S&P 500 Returns"
   ]
  },
  {
   "cell_type": "code",
   "execution_count": 31,
   "metadata": {},
   "outputs": [
    {
     "data": {
      "text/html": [
       "<div>\n",
       "<style scoped>\n",
       "    .dataframe tbody tr th:only-of-type {\n",
       "        vertical-align: middle;\n",
       "    }\n",
       "\n",
       "    .dataframe tbody tr th {\n",
       "        vertical-align: top;\n",
       "    }\n",
       "\n",
       "    .dataframe thead th {\n",
       "        text-align: right;\n",
       "    }\n",
       "</style>\n",
       "<table border=\"1\" class=\"dataframe\">\n",
       "  <thead>\n",
       "    <tr style=\"text-align: right;\">\n",
       "      <th></th>\n",
       "      <th>SOROS FUND MANAGEMENT LLC</th>\n",
       "      <th>PAULSON &amp; CO.INC.</th>\n",
       "      <th>TIGER GLOBAL MANAGEMENT LLC</th>\n",
       "      <th>BERKSHIRE HATHAWAY INC</th>\n",
       "      <th>Algo 1</th>\n",
       "      <th>Algo 2</th>\n",
       "      <th>SP500</th>\n",
       "    </tr>\n",
       "    <tr>\n",
       "      <th>Date</th>\n",
       "      <th></th>\n",
       "      <th></th>\n",
       "      <th></th>\n",
       "      <th></th>\n",
       "      <th></th>\n",
       "      <th></th>\n",
       "      <th></th>\n",
       "    </tr>\n",
       "  </thead>\n",
       "  <tbody>\n",
       "    <tr>\n",
       "      <td>2015-03-03</td>\n",
       "      <td>-0.001266</td>\n",
       "      <td>-0.004981</td>\n",
       "      <td>-0.000496</td>\n",
       "      <td>-0.006569</td>\n",
       "      <td>-0.001942</td>\n",
       "      <td>-0.000949</td>\n",
       "      <td>-0.004539</td>\n",
       "    </tr>\n",
       "    <tr>\n",
       "      <td>2015-03-04</td>\n",
       "      <td>0.002230</td>\n",
       "      <td>0.003241</td>\n",
       "      <td>-0.002534</td>\n",
       "      <td>0.004213</td>\n",
       "      <td>-0.008589</td>\n",
       "      <td>0.002416</td>\n",
       "      <td>-0.004389</td>\n",
       "    </tr>\n",
       "    <tr>\n",
       "      <td>2015-03-05</td>\n",
       "      <td>0.004016</td>\n",
       "      <td>0.004076</td>\n",
       "      <td>0.002355</td>\n",
       "      <td>0.006726</td>\n",
       "      <td>-0.000955</td>\n",
       "      <td>0.004323</td>\n",
       "      <td>0.001196</td>\n",
       "    </tr>\n",
       "    <tr>\n",
       "      <td>2015-03-06</td>\n",
       "      <td>-0.007905</td>\n",
       "      <td>-0.003574</td>\n",
       "      <td>-0.008481</td>\n",
       "      <td>-0.013098</td>\n",
       "      <td>-0.004957</td>\n",
       "      <td>-0.011460</td>\n",
       "      <td>-0.014174</td>\n",
       "    </tr>\n",
       "    <tr>\n",
       "      <td>2015-03-09</td>\n",
       "      <td>0.000582</td>\n",
       "      <td>0.004225</td>\n",
       "      <td>0.005843</td>\n",
       "      <td>-0.001652</td>\n",
       "      <td>-0.005447</td>\n",
       "      <td>0.001303</td>\n",
       "      <td>0.003944</td>\n",
       "    </tr>\n",
       "  </tbody>\n",
       "</table>\n",
       "</div>"
      ],
      "text/plain": [
       "            SOROS FUND MANAGEMENT LLC  PAULSON & CO.INC.   \\\n",
       "Date                                                        \n",
       "2015-03-03                  -0.001266           -0.004981   \n",
       "2015-03-04                   0.002230            0.003241   \n",
       "2015-03-05                   0.004016            0.004076   \n",
       "2015-03-06                  -0.007905           -0.003574   \n",
       "2015-03-09                   0.000582            0.004225   \n",
       "\n",
       "            TIGER GLOBAL MANAGEMENT LLC  BERKSHIRE HATHAWAY INC    Algo 1  \\\n",
       "Date                                                                        \n",
       "2015-03-03                    -0.000496               -0.006569 -0.001942   \n",
       "2015-03-04                    -0.002534                0.004213 -0.008589   \n",
       "2015-03-05                     0.002355                0.006726 -0.000955   \n",
       "2015-03-06                    -0.008481               -0.013098 -0.004957   \n",
       "2015-03-09                     0.005843               -0.001652 -0.005447   \n",
       "\n",
       "              Algo 2     SP500  \n",
       "Date                            \n",
       "2015-03-03 -0.000949 -0.004539  \n",
       "2015-03-04  0.002416 -0.004389  \n",
       "2015-03-05  0.004323  0.001196  \n",
       "2015-03-06 -0.011460 -0.014174  \n",
       "2015-03-09  0.001303  0.003944  "
      ]
     },
     "execution_count": 31,
     "metadata": {},
     "output_type": "execute_result"
    }
   ],
   "source": [
    "# Concatenate all DataFrames into a single DataFrame\n",
    "# YOUR CODE HERE\n",
    "combined_df= pd.concat([whale_returns_csv, algo_returns_csv, sp500_returns], axis=\"columns\", join=\"inner\")\n",
    "combined_df.head()"
   ]
  },
  {
   "cell_type": "markdown",
   "metadata": {},
   "source": [
    "---"
   ]
  },
  {
   "cell_type": "markdown",
   "metadata": {},
   "source": [
    "# Portfolio Analysis\n",
    "\n",
    "In this section, you will calculate and visualize performance and risk metrics for the portfolios."
   ]
  },
  {
   "cell_type": "markdown",
   "metadata": {},
   "source": [
    "## Performance\n",
    "\n",
    "Calculate and Plot the daily returns and cumulative returns. "
   ]
  },
  {
   "cell_type": "code",
   "execution_count": 32,
   "metadata": {},
   "outputs": [
    {
     "data": {
      "text/plain": [
       "<matplotlib.axes._subplots.AxesSubplot at 0x1a19bc5090>"
      ]
     },
     "execution_count": 32,
     "metadata": {},
     "output_type": "execute_result"
    },
    {
     "data": {
      "image/png": "[encoded data removed]",
      "text/plain": [
       "<Figure size 432x288 with 1 Axes>"
      ]
     },
     "metadata": {
      "needs_background": "light"
     },
     "output_type": "display_data"
    }
   ],
   "source": [
    "# Plot daily returns\n",
    "# YOUR CODE HERE\n",
    "combined_df.plot()"
   ]
  },
  {
   "cell_type": "code",
   "execution_count": 33,
   "metadata": {},
   "outputs": [
    {
     "data": {
      "text/html": [
       "<div>\n",
       "<style scoped>\n",
       "    .dataframe tbody tr th:only-of-type {\n",
       "        vertical-align: middle;\n",
       "    }\n",
       "\n",
       "    .dataframe tbody tr th {\n",
       "        vertical-align: top;\n",
       "    }\n",
       "\n",
       "    .dataframe thead th {\n",
       "        text-align: right;\n",
       "    }\n",
       "</style>\n",
       "<table border=\"1\" class=\"dataframe\">\n",
       "  <thead>\n",
       "    <tr style=\"text-align: right;\">\n",
       "      <th></th>\n",
       "      <th>SOROS FUND MANAGEMENT LLC</th>\n",
       "      <th>PAULSON &amp; CO.INC.</th>\n",
       "      <th>TIGER GLOBAL MANAGEMENT LLC</th>\n",
       "      <th>BERKSHIRE HATHAWAY INC</th>\n",
       "      <th>Algo 1</th>\n",
       "      <th>Algo 2</th>\n",
       "      <th>SP500</th>\n",
       "    </tr>\n",
       "    <tr>\n",
       "      <th>Date</th>\n",
       "      <th></th>\n",
       "      <th></th>\n",
       "      <th></th>\n",
       "      <th></th>\n",
       "      <th></th>\n",
       "      <th></th>\n",
       "      <th></th>\n",
       "    </tr>\n",
       "  </thead>\n",
       "  <tbody>\n",
       "    <tr>\n",
       "      <td>2015-03-03</td>\n",
       "      <td>-0.001266</td>\n",
       "      <td>-0.004981</td>\n",
       "      <td>-0.000496</td>\n",
       "      <td>-0.006569</td>\n",
       "      <td>-0.001942</td>\n",
       "      <td>-0.000949</td>\n",
       "      <td>-0.004539</td>\n",
       "    </tr>\n",
       "    <tr>\n",
       "      <td>2015-03-04</td>\n",
       "      <td>0.000962</td>\n",
       "      <td>-0.001755</td>\n",
       "      <td>-0.003028</td>\n",
       "      <td>-0.002383</td>\n",
       "      <td>-0.010514</td>\n",
       "      <td>0.001464</td>\n",
       "      <td>-0.008907</td>\n",
       "    </tr>\n",
       "    <tr>\n",
       "      <td>2015-03-05</td>\n",
       "      <td>0.004981</td>\n",
       "      <td>0.002314</td>\n",
       "      <td>-0.000681</td>\n",
       "      <td>0.004327</td>\n",
       "      <td>-0.011459</td>\n",
       "      <td>0.005794</td>\n",
       "      <td>-0.007722</td>\n",
       "    </tr>\n",
       "    <tr>\n",
       "      <td>2015-03-06</td>\n",
       "      <td>-0.002963</td>\n",
       "      <td>-0.001269</td>\n",
       "      <td>-0.009156</td>\n",
       "      <td>-0.008828</td>\n",
       "      <td>-0.016359</td>\n",
       "      <td>-0.005733</td>\n",
       "      <td>-0.021786</td>\n",
       "    </tr>\n",
       "    <tr>\n",
       "      <td>2015-03-09</td>\n",
       "      <td>-0.002383</td>\n",
       "      <td>0.002951</td>\n",
       "      <td>-0.003367</td>\n",
       "      <td>-0.010466</td>\n",
       "      <td>-0.021717</td>\n",
       "      <td>-0.004437</td>\n",
       "      <td>-0.017928</td>\n",
       "    </tr>\n",
       "    <tr>\n",
       "      <td>...</td>\n",
       "      <td>...</td>\n",
       "      <td>...</td>\n",
       "      <td>...</td>\n",
       "      <td>...</td>\n",
       "      <td>...</td>\n",
       "      <td>...</td>\n",
       "      <td>...</td>\n",
       "    </tr>\n",
       "    <tr>\n",
       "      <td>2019-04-16</td>\n",
       "      <td>0.160965</td>\n",
       "      <td>-0.213189</td>\n",
       "      <td>-0.137920</td>\n",
       "      <td>0.526861</td>\n",
       "      <td>0.944990</td>\n",
       "      <td>0.267768</td>\n",
       "      <td>0.372945</td>\n",
       "    </tr>\n",
       "    <tr>\n",
       "      <td>2019-04-17</td>\n",
       "      <td>0.157602</td>\n",
       "      <td>-0.218277</td>\n",
       "      <td>-0.141721</td>\n",
       "      <td>0.531781</td>\n",
       "      <td>0.924954</td>\n",
       "      <td>0.261140</td>\n",
       "      <td>0.369823</td>\n",
       "    </tr>\n",
       "    <tr>\n",
       "      <td>2019-04-18</td>\n",
       "      <td>0.159278</td>\n",
       "      <td>-0.217322</td>\n",
       "      <td>-0.141222</td>\n",
       "      <td>0.534716</td>\n",
       "      <td>0.923823</td>\n",
       "      <td>0.259590</td>\n",
       "      <td>0.371986</td>\n",
       "    </tr>\n",
       "    <tr>\n",
       "      <td>2019-04-22</td>\n",
       "      <td>0.156280</td>\n",
       "      <td>-0.223061</td>\n",
       "      <td>-0.144348</td>\n",
       "      <td>0.533046</td>\n",
       "      <td>0.925124</td>\n",
       "      <td>0.257151</td>\n",
       "      <td>0.373375</td>\n",
       "    </tr>\n",
       "    <tr>\n",
       "      <td>2019-04-23</td>\n",
       "      <td>0.164568</td>\n",
       "      <td>-0.220354</td>\n",
       "      <td>-0.138811</td>\n",
       "      <td>0.553401</td>\n",
       "      <td>0.934691</td>\n",
       "      <td>0.269247</td>\n",
       "      <td>0.385517</td>\n",
       "    </tr>\n",
       "  </tbody>\n",
       "</table>\n",
       "<p>1043 rows × 7 columns</p>\n",
       "</div>"
      ],
      "text/plain": [
       "            SOROS FUND MANAGEMENT LLC  PAULSON & CO.INC.   \\\n",
       "Date                                                        \n",
       "2015-03-03                  -0.001266           -0.004981   \n",
       "2015-03-04                   0.000962           -0.001755   \n",
       "2015-03-05                   0.004981            0.002314   \n",
       "2015-03-06                  -0.002963           -0.001269   \n",
       "2015-03-09                  -0.002383            0.002951   \n",
       "...                               ...                 ...   \n",
       "2019-04-16                   0.160965           -0.213189   \n",
       "2019-04-17                   0.157602           -0.218277   \n",
       "2019-04-18                   0.159278           -0.217322   \n",
       "2019-04-22                   0.156280           -0.223061   \n",
       "2019-04-23                   0.164568           -0.220354   \n",
       "\n",
       "            TIGER GLOBAL MANAGEMENT LLC  BERKSHIRE HATHAWAY INC    Algo 1  \\\n",
       "Date                                                                        \n",
       "2015-03-03                    -0.000496               -0.006569 -0.001942   \n",
       "2015-03-04                    -0.003028               -0.002383 -0.010514   \n",
       "2015-03-05                    -0.000681                0.004327 -0.011459   \n",
       "2015-03-06                    -0.009156               -0.008828 -0.016359   \n",
       "2015-03-09                    -0.003367               -0.010466 -0.021717   \n",
       "...                                 ...                     ...       ...   \n",
       "2019-04-16                    -0.137920                0.526861  0.944990   \n",
       "2019-04-17                    -0.141721                0.531781  0.924954   \n",
       "2019-04-18                    -0.141222                0.534716  0.923823   \n",
       "2019-04-22                    -0.144348                0.533046  0.925124   \n",
       "2019-04-23                    -0.138811                0.553401  0.934691   \n",
       "\n",
       "              Algo 2     SP500  \n",
       "Date                            \n",
       "2015-03-03 -0.000949 -0.004539  \n",
       "2015-03-04  0.001464 -0.008907  \n",
       "2015-03-05  0.005794 -0.007722  \n",
       "2015-03-06 -0.005733 -0.021786  \n",
       "2015-03-09 -0.004437 -0.017928  \n",
       "...              ...       ...  \n",
       "2019-04-16  0.267768  0.372945  \n",
       "2019-04-17  0.261140  0.369823  \n",
       "2019-04-18  0.259590  0.371986  \n",
       "2019-04-22  0.257151  0.373375  \n",
       "2019-04-23  0.269247  0.385517  \n",
       "\n",
       "[1043 rows x 7 columns]"
      ]
     },
     "execution_count": 33,
     "metadata": {},
     "output_type": "execute_result"
    }
   ],
   "source": [
    "# Plot cumulative returns\n",
    "# YOUR CODE HERE\n",
    "cumulative_returns = (1 + combined_df).cumprod() - 1\n",
    "cumulative_returns"
   ]
  },
  {
   "cell_type": "code",
   "execution_count": 34,
   "metadata": {},
   "outputs": [
    {
     "data": {
      "text/plain": [
       "<matplotlib.axes._subplots.AxesSubplot at 0x1a1a3a71d0>"
      ]
     },
     "execution_count": 34,
     "metadata": {},
     "output_type": "execute_result"
    },
    {
     "data": {
      "image/png": "[encoded data removed]",
      "text/plain": [
       "<Figure size 432x288 with 1 Axes>"
      ]
     },
     "metadata": {
      "needs_background": "light"
     },
     "output_type": "display_data"
    }
   ],
   "source": [
    "cumulative_returns.plot()"
   ]
  },
  {
   "cell_type": "code",
   "execution_count": null,
   "metadata": {},
   "outputs": [],
   "source": []
  },
  {
   "cell_type": "markdown",
   "metadata": {},
   "source": [
    "## Risk\n",
    "\n",
    "Determine the _risk_ of each portfolio:\n",
    "\n",
    "1. Create a box plot for each portfolio. \n",
    "2. Calculate the standard deviation for all portfolios\n",
    "4. Determine which portfolios are riskier than the S&P 500\n",
    "5. Calculate the Annualized Standard Deviation"
   ]
  },
  {
   "cell_type": "code",
   "execution_count": 35,
   "metadata": {},
   "outputs": [
    {
     "data": {
      "text/plain": [
       "<matplotlib.axes._subplots.AxesSubplot at 0x105b59410>"
      ]
     },
     "execution_count": 35,
     "metadata": {},
     "output_type": "execute_result"
    },
    {
     "data": {
      "image/png": "[encoded data removed]",
      "text/plain": [
       "<Figure size 432x288 with 1 Axes>"
      ]
     },
     "metadata": {
      "needs_background": "light"
     },
     "output_type": "display_data"
    }
   ],
   "source": [
    "# Box plot to visually show risk\n",
    "# YOUR CODE HERE\n",
    "sp500_returns.boxplot()"
   ]
  },
  {
   "cell_type": "code",
   "execution_count": 36,
   "metadata": {},
   "outputs": [
    {
     "data": {
      "text/plain": [
       "<matplotlib.axes._subplots.AxesSubplot at 0x1a19884590>"
      ]
     },
     "execution_count": 36,
     "metadata": {},
     "output_type": "execute_result"
    },
    {
     "data": {
      "image/png": "[encoded data removed]",
      "text/plain": [
       "<Figure size 432x288 with 1 Axes>"
      ]
     },
     "metadata": {
      "needs_background": "light"
     },
     "output_type": "display_data"
    }
   ],
   "source": [
    "algo_returns_csv.boxplot()"
   ]
  },
  {
   "cell_type": "code",
   "execution_count": 37,
   "metadata": {},
   "outputs": [
    {
     "data": {
      "text/plain": [
       "<matplotlib.axes._subplots.AxesSubplot at 0x1a19967f50>"
      ]
     },
     "execution_count": 37,
     "metadata": {},
     "output_type": "execute_result"
    },
    {
     "data": {
      "image/png": "[encoded data removed]",
      "text/plain": [
       "<Figure size 432x288 with 1 Axes>"
      ]
     },
     "metadata": {
      "needs_background": "light"
     },
     "output_type": "display_data"
    }
   ],
   "source": [
    "whale_returns_csv.boxplot()"
   ]
  },
  {
   "cell_type": "code",
   "execution_count": 38,
   "metadata": {},
   "outputs": [
    {
     "data": {
      "text/plain": [
       "SP500    0.008111\n",
       "dtype: float64"
      ]
     },
     "execution_count": 38,
     "metadata": {},
     "output_type": "execute_result"
    }
   ],
   "source": [
    "# Daily Standard Deviations\n",
    "# Calculate the standard deviation for each portfolio. Which portfolios are riskier than the S&P 500?\n",
    "# YOUR CODE HERE\n",
    "sp500_std=sp500_returns.std()\n",
    "sp500_std.head()"
   ]
  },
  {
   "cell_type": "code",
   "execution_count": 39,
   "metadata": {},
   "outputs": [
    {
     "data": {
      "text/plain": [
       "SOROS FUND MANAGEMENT LLC      0.007842\n",
       "PAULSON & CO.INC.              0.006977\n",
       "TIGER GLOBAL MANAGEMENT LLC    0.010824\n",
       "BERKSHIRE HATHAWAY INC         0.012831\n",
       "dtype: float64"
      ]
     },
     "execution_count": 39,
     "metadata": {},
     "output_type": "execute_result"
    }
   ],
   "source": [
    "whale_std=whale_returns_csv.std()\n",
    "whale_std.head()"
   ]
  },
  {
   "cell_type": "code",
   "execution_count": 40,
   "metadata": {},
   "outputs": [
    {
     "data": {
      "text/plain": [
       "Algo 1    0.007988\n",
       "Algo 2    0.008466\n",
       "dtype: float64"
      ]
     },
     "execution_count": 40,
     "metadata": {},
     "output_type": "execute_result"
    }
   ],
   "source": [
    "algo_std=algo_returns_csv.std()\n",
    "algo_std.head()"
   ]
  },
  {
   "cell_type": "code",
   "execution_count": 41,
   "metadata": {},
   "outputs": [
    {
     "data": {
      "text/plain": [
       "SOROS FUND MANAGEMENT LLC      0.007895\n",
       "PAULSON & CO.INC.              0.007023\n",
       "TIGER GLOBAL MANAGEMENT LLC    0.010894\n",
       "BERKSHIRE HATHAWAY INC         0.012919\n",
       "Algo 1                         0.007620\n",
       "dtype: float64"
      ]
     },
     "execution_count": 41,
     "metadata": {},
     "output_type": "execute_result"
    }
   ],
   "source": [
    "# Determine which portfolios are riskier than the S&P 500\n",
    "# YOUR CODE HERE\n",
    "\n",
    "combined_std=combined_df.std()\n",
    "combined_std.head()"
   ]
  },
  {
   "cell_type": "code",
   "execution_count": 42,
   "metadata": {},
   "outputs": [
    {
     "data": {
      "text/plain": [
       "BERKSHIRE HATHAWAY INC         0.012919\n",
       "TIGER GLOBAL MANAGEMENT LLC    0.010894\n",
       "SP500                          0.008554\n",
       "Algo 2                         0.008342\n",
       "SOROS FUND MANAGEMENT LLC      0.007895\n",
       "dtype: float64"
      ]
     },
     "execution_count": 42,
     "metadata": {},
     "output_type": "execute_result"
    }
   ],
   "source": [
    "combined_std=combined_std.sort_values(ascending=False)\n",
    "combined_std.head()"
   ]
  },
  {
   "cell_type": "code",
   "execution_count": 43,
   "metadata": {},
   "outputs": [
    {
     "data": {
      "text/plain": [
       "BERKSHIRE HATHAWAY INC         0.205077\n",
       "TIGER GLOBAL MANAGEMENT LLC    0.172936\n",
       "SP500                          0.135786\n",
       "Algo 2                         0.132430\n",
       "SOROS FUND MANAGEMENT LLC      0.125335\n",
       "dtype: float64"
      ]
     },
     "execution_count": 43,
     "metadata": {},
     "output_type": "execute_result"
    }
   ],
   "source": [
    "# Calculate the annualized standard deviation (252 trading days)\n",
    "# YOUR CODE HERE\n",
    "annual_std=combined_std * np.sqrt(252)\n",
    "annual_std.head()"
   ]
  },
  {
   "cell_type": "markdown",
   "metadata": {},
   "source": [
    "---"
   ]
  },
  {
   "cell_type": "markdown",
   "metadata": {},
   "source": [
    "## Rolling Statistics\n",
    "\n",
    "Risk changes over time. Analyze the rolling statistics for Risk and Beta. \n",
    "\n",
    "1. Calculate and plot the rolling standard deviation for the S&PP 500 using a 21 day window\n",
    "2. Calculate the correlation between each stock to determine which portfolios may mimick the S&P 500\n",
    "2. Calculate and plot a 60 day Beta for Berkshire Hathaway Inc compared to the S&&P 500"
   ]
  },
  {
   "cell_type": "code",
   "execution_count": 44,
   "metadata": {},
   "outputs": [
    {
     "data": {
      "text/plain": [
       "<matplotlib.axes._subplots.AxesSubplot at 0x1a19967650>"
      ]
     },
     "execution_count": 44,
     "metadata": {},
     "output_type": "execute_result"
    },
    {
     "data": {
      "image/png": "[encoded data removed]",
      "text/plain": [
       "<Figure size 432x288 with 1 Axes>"
      ]
     },
     "metadata": {
      "needs_background": "light"
     },
     "output_type": "display_data"
    }
   ],
   "source": [
    "# Calculate and plot the rolling standard deviation for the S&PP 500 using a 21 day window\n",
    "# YOUR CODE HERE\n",
    "sp500_returns.rolling(window=21).std().plot()"
   ]
  },
  {
   "cell_type": "code",
   "execution_count": 45,
   "metadata": {},
   "outputs": [
    {
     "data": {
      "text/plain": [
       "<matplotlib.axes._subplots.AxesSubplot at 0x1a19c5a910>"
      ]
     },
     "execution_count": 45,
     "metadata": {},
     "output_type": "execute_result"
    },
    {
     "data": {
      "image/png": "[encoded data removed]",
      "text/plain": [
       "<Figure size 432x288 with 2 Axes>"
      ]
     },
     "metadata": {
      "needs_background": "light"
     },
     "output_type": "display_data"
    }
   ],
   "source": [
    "# Correlation for all stocks\n",
    "# YOUR CODE HERE\n",
    "correlation=combined_df.corr()\n",
    "sns.heatmap(correlation)"
   ]
  },
  {
   "cell_type": "code",
   "execution_count": 46,
   "metadata": {},
   "outputs": [
    {
     "data": {
      "text/plain": [
       "<seaborn.axisgrid.FacetGrid at 0x1a19954310>"
      ]
     },
     "execution_count": 46,
     "metadata": {},
     "output_type": "execute_result"
    },
    {
     "data": {
      "image/png": "[encoded data removed]",
      "text/plain": [
       "<Figure size 540x360 with 1 Axes>"
      ]
     },
     "metadata": {
      "needs_background": "light"
     },
     "output_type": "display_data"
    }
   ],
   "source": [
    "# Correlation for Each Stock\n",
    "# YOUR CODE HERE\n",
    "\n",
    "import seaborn as sns\n",
    "sns.lmplot(x=\"Algo 1\", y= \"SP500\", data=combined_df, aspect=1.5, fit_reg=True)"
   ]
  },
  {
   "cell_type": "code",
   "execution_count": null,
   "metadata": {},
   "outputs": [],
   "source": []
  },
  {
   "cell_type": "code",
   "execution_count": 47,
   "metadata": {},
   "outputs": [
    {
     "data": {
      "text/plain": [
       "<seaborn.axisgrid.FacetGrid at 0x1a1a7e2ed0>"
      ]
     },
     "execution_count": 47,
     "metadata": {},
     "output_type": "execute_result"
    },
    {
     "data": {
      "image/png": "[encoded data removed]",
      "text/plain": [
       "<Figure size 540x360 with 1 Axes>"
      ]
     },
     "metadata": {
      "needs_background": "light"
     },
     "output_type": "display_data"
    }
   ],
   "source": [
    "sns.lmplot(x=\"Algo 2\", y= \"SP500\", data=combined_df, aspect=1.5, fit_reg=True)"
   ]
  },
  {
   "cell_type": "code",
   "execution_count": 48,
   "metadata": {},
   "outputs": [
    {
     "data": {
      "text/plain": [
       "<seaborn.axisgrid.FacetGrid at 0x1a1a9d4cd0>"
      ]
     },
     "execution_count": 48,
     "metadata": {},
     "output_type": "execute_result"
    },
    {
     "data": {
      "image/png": "[encoded data removed]",
      "text/plain": [
       "<Figure size 540x360 with 1 Axes>"
      ]
     },
     "metadata": {
      "needs_background": "light"
     },
     "output_type": "display_data"
    }
   ],
   "source": [
    "sns.lmplot(x=\"SOROS FUND MANAGEMENT LLC\", y= \"SP500\", data=combined_df, aspect=1.5, fit_reg=True)"
   ]
  },
  {
   "cell_type": "code",
   "execution_count": 49,
   "metadata": {},
   "outputs": [
    {
     "data": {
      "text/plain": [
       "<seaborn.axisgrid.FacetGrid at 0x1a1aad8990>"
      ]
     },
     "execution_count": 49,
     "metadata": {},
     "output_type": "execute_result"
    },
    {
     "data": {
      "image/png": "[encoded data removed]",
      "text/plain": [
       "<Figure size 540x360 with 1 Axes>"
      ]
     },
     "metadata": {
      "needs_background": "light"
     },
     "output_type": "display_data"
    }
   ],
   "source": [
    "sns.lmplot(x=\"PAULSON & CO.INC. \", y= \"SP500\", data=combined_df, aspect=1.5, fit_reg=True)"
   ]
  },
  {
   "cell_type": "code",
   "execution_count": 50,
   "metadata": {},
   "outputs": [
    {
     "data": {
      "text/plain": [
       "<seaborn.axisgrid.FacetGrid at 0x1a1adbb790>"
      ]
     },
     "execution_count": 50,
     "metadata": {},
     "output_type": "execute_result"
    },
    {
     "data": {
      "image/png": "[encoded data removed]",
      "text/plain": [
       "<Figure size 540x360 with 1 Axes>"
      ]
     },
     "metadata": {
      "needs_background": "light"
     },
     "output_type": "display_data"
    }
   ],
   "source": [
    "sns.lmplot(x=\"TIGER GLOBAL MANAGEMENT LLC\", y= \"SP500\", data=combined_df, aspect=1.5, fit_reg=True)"
   ]
  },
  {
   "cell_type": "code",
   "execution_count": 51,
   "metadata": {},
   "outputs": [
    {
     "data": {
      "text/plain": [
       "<seaborn.axisgrid.FacetGrid at 0x1a1afd7410>"
      ]
     },
     "execution_count": 51,
     "metadata": {},
     "output_type": "execute_result"
    },
    {
     "data": {
      "image/png": "[encoded data removed]",
      "text/plain": [
       "<Figure size 540x360 with 1 Axes>"
      ]
     },
     "metadata": {
      "needs_background": "light"
     },
     "output_type": "display_data"
    }
   ],
   "source": [
    "sns.lmplot(x=\"BERKSHIRE HATHAWAY INC\", y= \"SP500\", data=combined_df, aspect=1.5, fit_reg=True)"
   ]
  },
  {
   "cell_type": "code",
   "execution_count": 52,
   "metadata": {},
   "outputs": [
    {
     "data": {
      "text/plain": [
       "8.302834941861689e-05"
      ]
     },
     "execution_count": 52,
     "metadata": {},
     "output_type": "execute_result"
    }
   ],
   "source": [
    "# Calculate Beta for a single portfolio compared to the total market (S&P 500)\n",
    "# YOUR CODE HERE\n",
    "covarianc=combined_df[\"BERKSHIRE HATHAWAY INC\"].cov(combined_df[\"SP500\"])\n",
    "covarianc\n"
   ]
  },
  {
   "cell_type": "code",
   "execution_count": 53,
   "metadata": {},
   "outputs": [
    {
     "data": {
      "text/plain": [
       "<matplotlib.axes._subplots.AxesSubplot at 0x1a1b0ffe90>"
      ]
     },
     "execution_count": 53,
     "metadata": {},
     "output_type": "execute_result"
    },
    {
     "data": {
      "image/png": "[encoded data removed]",
      "text/plain": [
       "<Figure size 2160x1440 with 1 Axes>"
      ]
     },
     "metadata": {
      "needs_background": "light"
     },
     "output_type": "display_data"
    }
   ],
   "source": [
    "covarinace= combined_df[\"BERKSHIRE HATHAWAY INC\"].rolling(window=60).cov(combined_df[\"SP500\"])\n",
    "covarinace.plot(figsize=(30,20), title=\"Rolling 60 day Covariance of Berkshire Hathaway Inc vs S&P 500 Returns\")"
   ]
  },
  {
   "cell_type": "markdown",
   "metadata": {},
   "source": [
    "### Challenge: Exponentially Weighted Average \n",
    "\n",
    "An alternative way to calculate a rollwing window is to take the exponentially weighted moving average. This is like a moving window average, but it assigns greater importance to more recent observations. Try calculating the `ewm` with a 21 day half-life."
   ]
  },
  {
   "cell_type": "code",
   "execution_count": 84,
   "metadata": {},
   "outputs": [
    {
     "data": {
      "text/html": [
       "<div>\n",
       "<style scoped>\n",
       "    .dataframe tbody tr th:only-of-type {\n",
       "        vertical-align: middle;\n",
       "    }\n",
       "\n",
       "    .dataframe tbody tr th {\n",
       "        vertical-align: top;\n",
       "    }\n",
       "\n",
       "    .dataframe thead th {\n",
       "        text-align: right;\n",
       "    }\n",
       "</style>\n",
       "<table border=\"1\" class=\"dataframe\">\n",
       "  <thead>\n",
       "    <tr style=\"text-align: right;\">\n",
       "      <th></th>\n",
       "      <th>SOROS FUND MANAGEMENT LLC</th>\n",
       "      <th>PAULSON &amp; CO.INC.</th>\n",
       "      <th>TIGER GLOBAL MANAGEMENT LLC</th>\n",
       "      <th>BERKSHIRE HATHAWAY INC</th>\n",
       "      <th>Algo 1</th>\n",
       "      <th>Algo 2</th>\n",
       "      <th>SP500</th>\n",
       "    </tr>\n",
       "    <tr>\n",
       "      <th>Date</th>\n",
       "      <th></th>\n",
       "      <th></th>\n",
       "      <th></th>\n",
       "      <th></th>\n",
       "      <th></th>\n",
       "      <th></th>\n",
       "      <th></th>\n",
       "    </tr>\n",
       "  </thead>\n",
       "  <tbody>\n",
       "    <tr>\n",
       "      <td>2015-03-03</td>\n",
       "      <td>-0.001266</td>\n",
       "      <td>-0.004981</td>\n",
       "      <td>-0.000496</td>\n",
       "      <td>-0.006569</td>\n",
       "      <td>-0.001942</td>\n",
       "      <td>-0.000949</td>\n",
       "      <td>-0.004539</td>\n",
       "    </tr>\n",
       "    <tr>\n",
       "      <td>2015-03-04</td>\n",
       "      <td>0.000511</td>\n",
       "      <td>-0.000802</td>\n",
       "      <td>-0.001532</td>\n",
       "      <td>-0.001089</td>\n",
       "      <td>-0.005320</td>\n",
       "      <td>0.000761</td>\n",
       "      <td>-0.004462</td>\n",
       "    </tr>\n",
       "    <tr>\n",
       "      <td>2015-03-05</td>\n",
       "      <td>0.001718</td>\n",
       "      <td>0.000878</td>\n",
       "      <td>-0.000193</td>\n",
       "      <td>0.001603</td>\n",
       "      <td>-0.003817</td>\n",
       "      <td>0.001988</td>\n",
       "      <td>-0.002514</td>\n",
       "    </tr>\n",
       "    <tr>\n",
       "      <td>2015-03-06</td>\n",
       "      <td>-0.000808</td>\n",
       "      <td>-0.000291</td>\n",
       "      <td>-0.002369</td>\n",
       "      <td>-0.002256</td>\n",
       "      <td>-0.004116</td>\n",
       "      <td>-0.001542</td>\n",
       "      <td>-0.005575</td>\n",
       "    </tr>\n",
       "    <tr>\n",
       "      <td>2015-03-09</td>\n",
       "      <td>-0.000511</td>\n",
       "      <td>0.000673</td>\n",
       "      <td>-0.000616</td>\n",
       "      <td>-0.002128</td>\n",
       "      <td>-0.004400</td>\n",
       "      <td>-0.000935</td>\n",
       "      <td>-0.003543</td>\n",
       "    </tr>\n",
       "    <tr>\n",
       "      <td>...</td>\n",
       "      <td>...</td>\n",
       "      <td>...</td>\n",
       "      <td>...</td>\n",
       "      <td>...</td>\n",
       "      <td>...</td>\n",
       "      <td>...</td>\n",
       "      <td>...</td>\n",
       "    </tr>\n",
       "    <tr>\n",
       "      <td>2019-04-16</td>\n",
       "      <td>0.001480</td>\n",
       "      <td>0.000448</td>\n",
       "      <td>-0.000813</td>\n",
       "      <td>0.001862</td>\n",
       "      <td>0.000912</td>\n",
       "      <td>0.001364</td>\n",
       "      <td>0.001352</td>\n",
       "    </tr>\n",
       "    <tr>\n",
       "      <td>2019-04-17</td>\n",
       "      <td>0.001338</td>\n",
       "      <td>0.000223</td>\n",
       "      <td>-0.000930</td>\n",
       "      <td>0.001906</td>\n",
       "      <td>0.000548</td>\n",
       "      <td>0.001150</td>\n",
       "      <td>0.001234</td>\n",
       "    </tr>\n",
       "    <tr>\n",
       "      <td>2019-04-18</td>\n",
       "      <td>0.001341</td>\n",
       "      <td>0.000256</td>\n",
       "      <td>-0.000881</td>\n",
       "      <td>0.001907</td>\n",
       "      <td>0.000511</td>\n",
       "      <td>0.001073</td>\n",
       "      <td>0.001246</td>\n",
       "    </tr>\n",
       "    <tr>\n",
       "      <td>2019-04-22</td>\n",
       "      <td>0.001214</td>\n",
       "      <td>0.000009</td>\n",
       "      <td>-0.000971</td>\n",
       "      <td>0.001809</td>\n",
       "      <td>0.000516</td>\n",
       "      <td>0.000975</td>\n",
       "      <td>0.001238</td>\n",
       "    </tr>\n",
       "    <tr>\n",
       "      <td>2019-04-23</td>\n",
       "      <td>0.001407</td>\n",
       "      <td>0.000122</td>\n",
       "      <td>-0.000729</td>\n",
       "      <td>0.002182</td>\n",
       "      <td>0.000661</td>\n",
       "      <td>0.001256</td>\n",
       "      <td>0.001485</td>\n",
       "    </tr>\n",
       "  </tbody>\n",
       "</table>\n",
       "<p>1043 rows × 7 columns</p>\n",
       "</div>"
      ],
      "text/plain": [
       "            SOROS FUND MANAGEMENT LLC  PAULSON & CO.INC.   \\\n",
       "Date                                                        \n",
       "2015-03-03                  -0.001266           -0.004981   \n",
       "2015-03-04                   0.000511           -0.000802   \n",
       "2015-03-05                   0.001718            0.000878   \n",
       "2015-03-06                  -0.000808           -0.000291   \n",
       "2015-03-09                  -0.000511            0.000673   \n",
       "...                               ...                 ...   \n",
       "2019-04-16                   0.001480            0.000448   \n",
       "2019-04-17                   0.001338            0.000223   \n",
       "2019-04-18                   0.001341            0.000256   \n",
       "2019-04-22                   0.001214            0.000009   \n",
       "2019-04-23                   0.001407            0.000122   \n",
       "\n",
       "            TIGER GLOBAL MANAGEMENT LLC  BERKSHIRE HATHAWAY INC    Algo 1  \\\n",
       "Date                                                                        \n",
       "2015-03-03                    -0.000496               -0.006569 -0.001942   \n",
       "2015-03-04                    -0.001532               -0.001089 -0.005320   \n",
       "2015-03-05                    -0.000193                0.001603 -0.003817   \n",
       "2015-03-06                    -0.002369               -0.002256 -0.004116   \n",
       "2015-03-09                    -0.000616               -0.002128 -0.004400   \n",
       "...                                 ...                     ...       ...   \n",
       "2019-04-16                    -0.000813                0.001862  0.000912   \n",
       "2019-04-17                    -0.000930                0.001906  0.000548   \n",
       "2019-04-18                    -0.000881                0.001907  0.000511   \n",
       "2019-04-22                    -0.000971                0.001809  0.000516   \n",
       "2019-04-23                    -0.000729                0.002182  0.000661   \n",
       "\n",
       "              Algo 2     SP500  \n",
       "Date                            \n",
       "2015-03-03 -0.000949 -0.004539  \n",
       "2015-03-04  0.000761 -0.004462  \n",
       "2015-03-05  0.001988 -0.002514  \n",
       "2015-03-06 -0.001542 -0.005575  \n",
       "2015-03-09 -0.000935 -0.003543  \n",
       "...              ...       ...  \n",
       "2019-04-16  0.001364  0.001352  \n",
       "2019-04-17  0.001150  0.001234  \n",
       "2019-04-18  0.001073  0.001246  \n",
       "2019-04-22  0.000975  0.001238  \n",
       "2019-04-23  0.001256  0.001485  \n",
       "\n",
       "[1043 rows x 7 columns]"
      ]
     },
     "execution_count": 84,
     "metadata": {},
     "output_type": "execute_result"
    }
   ],
   "source": [
    "# (OPTIONAL) YOUR CODE HERE\n",
    "combined_df.ewm(halflife=21).mean()"
   ]
  },
  {
   "cell_type": "markdown",
   "metadata": {},
   "source": [
    "---"
   ]
  },
  {
   "cell_type": "markdown",
   "metadata": {},
   "source": [
    "## Sharpe Ratios\n",
    "In reality, investment managers and thier institutional investors look at the ratio of return-to-risk, and not just returns alone. (After all, if you could invest in one of two portfolios, each offered the same 10% return, yet one offered lower risk, you'd take that one, right?)\n",
    "\n",
    "Calculate and plot the annualized Sharpe ratios for all portfolios to determine which portfolio has the best performance"
   ]
  },
  {
   "cell_type": "code",
   "execution_count": 55,
   "metadata": {},
   "outputs": [
    {
     "data": {
      "text/html": [
       "<div>\n",
       "<style scoped>\n",
       "    .dataframe tbody tr th:only-of-type {\n",
       "        vertical-align: middle;\n",
       "    }\n",
       "\n",
       "    .dataframe tbody tr th {\n",
       "        vertical-align: top;\n",
       "    }\n",
       "\n",
       "    .dataframe thead th {\n",
       "        text-align: right;\n",
       "    }\n",
       "</style>\n",
       "<table border=\"1\" class=\"dataframe\">\n",
       "  <thead>\n",
       "    <tr style=\"text-align: right;\">\n",
       "      <th></th>\n",
       "      <th>SOROS FUND MANAGEMENT LLC</th>\n",
       "      <th>PAULSON &amp; CO.INC.</th>\n",
       "      <th>TIGER GLOBAL MANAGEMENT LLC</th>\n",
       "      <th>BERKSHIRE HATHAWAY INC</th>\n",
       "      <th>Algo 1</th>\n",
       "      <th>Algo 2</th>\n",
       "      <th>SP500</th>\n",
       "    </tr>\n",
       "    <tr>\n",
       "      <th>Date</th>\n",
       "      <th></th>\n",
       "      <th></th>\n",
       "      <th></th>\n",
       "      <th></th>\n",
       "      <th></th>\n",
       "      <th></th>\n",
       "      <th></th>\n",
       "    </tr>\n",
       "  </thead>\n",
       "  <tbody>\n",
       "    <tr>\n",
       "      <td>2015-03-03</td>\n",
       "      <td>-0.001266</td>\n",
       "      <td>-0.004981</td>\n",
       "      <td>-0.000496</td>\n",
       "      <td>-0.006569</td>\n",
       "      <td>-0.001942</td>\n",
       "      <td>-0.000949</td>\n",
       "      <td>-0.004539</td>\n",
       "    </tr>\n",
       "    <tr>\n",
       "      <td>2015-03-04</td>\n",
       "      <td>0.002230</td>\n",
       "      <td>0.003241</td>\n",
       "      <td>-0.002534</td>\n",
       "      <td>0.004213</td>\n",
       "      <td>-0.008589</td>\n",
       "      <td>0.002416</td>\n",
       "      <td>-0.004389</td>\n",
       "    </tr>\n",
       "    <tr>\n",
       "      <td>2015-03-05</td>\n",
       "      <td>0.004016</td>\n",
       "      <td>0.004076</td>\n",
       "      <td>0.002355</td>\n",
       "      <td>0.006726</td>\n",
       "      <td>-0.000955</td>\n",
       "      <td>0.004323</td>\n",
       "      <td>0.001196</td>\n",
       "    </tr>\n",
       "    <tr>\n",
       "      <td>2015-03-06</td>\n",
       "      <td>-0.007905</td>\n",
       "      <td>-0.003574</td>\n",
       "      <td>-0.008481</td>\n",
       "      <td>-0.013098</td>\n",
       "      <td>-0.004957</td>\n",
       "      <td>-0.011460</td>\n",
       "      <td>-0.014174</td>\n",
       "    </tr>\n",
       "    <tr>\n",
       "      <td>2015-03-09</td>\n",
       "      <td>0.000582</td>\n",
       "      <td>0.004225</td>\n",
       "      <td>0.005843</td>\n",
       "      <td>-0.001652</td>\n",
       "      <td>-0.005447</td>\n",
       "      <td>0.001303</td>\n",
       "      <td>0.003944</td>\n",
       "    </tr>\n",
       "  </tbody>\n",
       "</table>\n",
       "</div>"
      ],
      "text/plain": [
       "            SOROS FUND MANAGEMENT LLC  PAULSON & CO.INC.   \\\n",
       "Date                                                        \n",
       "2015-03-03                  -0.001266           -0.004981   \n",
       "2015-03-04                   0.002230            0.003241   \n",
       "2015-03-05                   0.004016            0.004076   \n",
       "2015-03-06                  -0.007905           -0.003574   \n",
       "2015-03-09                   0.000582            0.004225   \n",
       "\n",
       "            TIGER GLOBAL MANAGEMENT LLC  BERKSHIRE HATHAWAY INC    Algo 1  \\\n",
       "Date                                                                        \n",
       "2015-03-03                    -0.000496               -0.006569 -0.001942   \n",
       "2015-03-04                    -0.002534                0.004213 -0.008589   \n",
       "2015-03-05                     0.002355                0.006726 -0.000955   \n",
       "2015-03-06                    -0.008481               -0.013098 -0.004957   \n",
       "2015-03-09                     0.005843               -0.001652 -0.005447   \n",
       "\n",
       "              Algo 2     SP500  \n",
       "Date                            \n",
       "2015-03-03 -0.000949 -0.004539  \n",
       "2015-03-04  0.002416 -0.004389  \n",
       "2015-03-05  0.004323  0.001196  \n",
       "2015-03-06 -0.011460 -0.014174  \n",
       "2015-03-09  0.001303  0.003944  "
      ]
     },
     "execution_count": 55,
     "metadata": {},
     "output_type": "execute_result"
    }
   ],
   "source": [
    "# Annualzied Sharpe Ratios\n",
    "# YOUR CODE HERE\n",
    "combined_df.head()"
   ]
  },
  {
   "cell_type": "code",
   "execution_count": 56,
   "metadata": {},
   "outputs": [
    {
     "data": {
      "text/plain": [
       "SOROS FUND MANAGEMENT LLC      0.356417\n",
       "PAULSON & CO.INC.             -0.483570\n",
       "TIGER GLOBAL MANAGEMENT LLC   -0.121060\n",
       "BERKSHIRE HATHAWAY INC         0.621810\n",
       "Algo 1                         1.378648\n",
       "Algo 2                         0.501364\n",
       "SP500                          0.648267\n",
       "dtype: float64"
      ]
     },
     "execution_count": 56,
     "metadata": {},
     "output_type": "execute_result"
    }
   ],
   "source": [
    "sharpe_ratios= (combined_df.mean()*252)/(combined_df.std() * np.sqrt(252))\n",
    "sharpe_ratios"
   ]
  },
  {
   "cell_type": "markdown",
   "metadata": {},
   "source": [
    " plot() these sharpe ratios using a barplot.\n",
    " On the basis of this performance metric, do our algo strategies outperform both 'the market' and the whales?"
   ]
  },
  {
   "cell_type": "code",
   "execution_count": 57,
   "metadata": {},
   "outputs": [
    {
     "data": {
      "text/plain": [
       "<matplotlib.axes._subplots.AxesSubplot at 0x1a1c3326d0>"
      ]
     },
     "execution_count": 57,
     "metadata": {},
     "output_type": "execute_result"
    },
    {
     "data": {
      "image/png": "[encoded data removed]",
      "text/plain": [
       "<Figure size 432x288 with 1 Axes>"
      ]
     },
     "metadata": {
      "needs_background": "light"
     },
     "output_type": "display_data"
    }
   ],
   "source": [
    "# Visualize the sharpe ratios as a bar plot\n",
    "# YOUR CODE HERE\n",
    "sharpe_ratios.plot(kind=\"bar\", title=\"Sharpe Ratios\")"
   ]
  },
  {
   "cell_type": "markdown",
   "metadata": {},
   "source": [
    "---"
   ]
  },
  {
   "cell_type": "markdown",
   "metadata": {},
   "source": [
    "# Portfolio Returns\n",
    "\n",
    "In this section, you will build your own portfolio of stocks, calculate the returns, and compare the results to the Whale Portfolios and the S&P 500. \n",
    "\n",
    "1. Choose 3-5 custom stocks with at last 1 year's worth of historic prices and create a DataFrame of the closing prices and dates for each stock.\n",
    "2. Calculate the weighted returns for the portfolio assuming an equal number of shares for each stock\n",
    "3. Join your portfolio returns to the DataFrame that contains all of the portfolio returns\n",
    "4. Re-run the performance and risk analysis with your portfolio to see how it compares to the others\n",
    "5. Include correlation analysis to determine which stocks (if any) are correlated"
   ]
  },
  {
   "cell_type": "markdown",
   "metadata": {},
   "source": [
    "## Choose 3-5 custom stocks with at last 1 year's worth of historic prices and create a DataFrame of the closing prices and dates for each stock."
   ]
  },
  {
   "cell_type": "code",
   "execution_count": 58,
   "metadata": {},
   "outputs": [
    {
     "data": {
      "text/html": [
       "<div>\n",
       "<style scoped>\n",
       "    .dataframe tbody tr th:only-of-type {\n",
       "        vertical-align: middle;\n",
       "    }\n",
       "\n",
       "    .dataframe tbody tr th {\n",
       "        vertical-align: top;\n",
       "    }\n",
       "\n",
       "    .dataframe thead th {\n",
       "        text-align: right;\n",
       "    }\n",
       "</style>\n",
       "<table border=\"1\" class=\"dataframe\">\n",
       "  <thead>\n",
       "    <tr style=\"text-align: right;\">\n",
       "      <th></th>\n",
       "      <th>Close/Last</th>\n",
       "      <th>Volume</th>\n",
       "      <th>Open</th>\n",
       "      <th>High</th>\n",
       "      <th>Low</th>\n",
       "    </tr>\n",
       "    <tr>\n",
       "      <th>Date</th>\n",
       "      <th></th>\n",
       "      <th></th>\n",
       "      <th></th>\n",
       "      <th></th>\n",
       "      <th></th>\n",
       "    </tr>\n",
       "  </thead>\n",
       "  <tbody>\n",
       "    <tr>\n",
       "      <td>2019-04-04</td>\n",
       "      <td>$367.88</td>\n",
       "      <td>4621965</td>\n",
       "      <td>$370.07</td>\n",
       "      <td>$372.05</td>\n",
       "      <td>$362.4</td>\n",
       "    </tr>\n",
       "    <tr>\n",
       "      <td>2019-04-05</td>\n",
       "      <td>$365.49</td>\n",
       "      <td>3898888</td>\n",
       "      <td>$369</td>\n",
       "      <td>$369.8</td>\n",
       "      <td>$364.66</td>\n",
       "    </tr>\n",
       "    <tr>\n",
       "      <td>2019-04-08</td>\n",
       "      <td>$361.41</td>\n",
       "      <td>4648877</td>\n",
       "      <td>$365.11</td>\n",
       "      <td>$365.94</td>\n",
       "      <td>$359.93</td>\n",
       "    </tr>\n",
       "    <tr>\n",
       "      <td>2019-04-09</td>\n",
       "      <td>$364.71</td>\n",
       "      <td>5431467</td>\n",
       "      <td>$360.54</td>\n",
       "      <td>$366.74</td>\n",
       "      <td>$359</td>\n",
       "    </tr>\n",
       "    <tr>\n",
       "      <td>2019-04-10</td>\n",
       "      <td>$363.92</td>\n",
       "      <td>4537963</td>\n",
       "      <td>$365.79</td>\n",
       "      <td>$368.8481</td>\n",
       "      <td>$362.25</td>\n",
       "    </tr>\n",
       "  </tbody>\n",
       "</table>\n",
       "</div>"
      ],
      "text/plain": [
       "            Close/Last   Volume      Open        High       Low\n",
       "Date                                                           \n",
       "2019-04-04     $367.88  4621965   $370.07     $372.05    $362.4\n",
       "2019-04-05     $365.49  3898888      $369      $369.8   $364.66\n",
       "2019-04-08     $361.41  4648877   $365.11     $365.94   $359.93\n",
       "2019-04-09     $364.71  5431467   $360.54     $366.74      $359\n",
       "2019-04-10     $363.92  4537963   $365.79   $368.8481   $362.25"
      ]
     },
     "execution_count": 58,
     "metadata": {},
     "output_type": "execute_result"
    }
   ],
   "source": [
    "# Read the first stock\n",
    "# YOUR CODE HERE\n",
    "csv_path = Path(\"./Resources/NFLX.csv\")\n",
    "nflx_df=pd.read_csv(\n",
    "    csv_path, index_col=\"Date\", infer_datetime_format=True, parse_dates=True\n",
    ")\n",
    "nflx_df.sort_index(inplace=True)\n",
    "nflx_df.head()\n"
   ]
  },
  {
   "cell_type": "code",
   "execution_count": 59,
   "metadata": {},
   "outputs": [
    {
     "data": {
      "text/html": [
       "<div>\n",
       "<style scoped>\n",
       "    .dataframe tbody tr th:only-of-type {\n",
       "        vertical-align: middle;\n",
       "    }\n",
       "\n",
       "    .dataframe tbody tr th {\n",
       "        vertical-align: top;\n",
       "    }\n",
       "\n",
       "    .dataframe thead th {\n",
       "        text-align: right;\n",
       "    }\n",
       "</style>\n",
       "<table border=\"1\" class=\"dataframe\">\n",
       "  <thead>\n",
       "    <tr style=\"text-align: right;\">\n",
       "      <th></th>\n",
       "      <th>NFLX</th>\n",
       "    </tr>\n",
       "    <tr>\n",
       "      <th>Date</th>\n",
       "      <th></th>\n",
       "    </tr>\n",
       "  </thead>\n",
       "  <tbody>\n",
       "    <tr>\n",
       "      <td>2019-04-04</td>\n",
       "      <td>$367.88</td>\n",
       "    </tr>\n",
       "    <tr>\n",
       "      <td>2019-04-05</td>\n",
       "      <td>$365.49</td>\n",
       "    </tr>\n",
       "    <tr>\n",
       "      <td>2019-04-08</td>\n",
       "      <td>$361.41</td>\n",
       "    </tr>\n",
       "    <tr>\n",
       "      <td>2019-04-09</td>\n",
       "      <td>$364.71</td>\n",
       "    </tr>\n",
       "    <tr>\n",
       "      <td>2019-04-10</td>\n",
       "      <td>$363.92</td>\n",
       "    </tr>\n",
       "    <tr>\n",
       "      <td>...</td>\n",
       "      <td>...</td>\n",
       "    </tr>\n",
       "    <tr>\n",
       "      <td>2020-03-30</td>\n",
       "      <td>$370.96</td>\n",
       "    </tr>\n",
       "    <tr>\n",
       "      <td>2020-03-31</td>\n",
       "      <td>$375.5</td>\n",
       "    </tr>\n",
       "    <tr>\n",
       "      <td>2020-04-01</td>\n",
       "      <td>$364.08</td>\n",
       "    </tr>\n",
       "    <tr>\n",
       "      <td>2020-04-02</td>\n",
       "      <td>$370.08</td>\n",
       "    </tr>\n",
       "    <tr>\n",
       "      <td>2020-04-03</td>\n",
       "      <td>$361.76</td>\n",
       "    </tr>\n",
       "  </tbody>\n",
       "</table>\n",
       "<p>253 rows × 1 columns</p>\n",
       "</div>"
      ],
      "text/plain": [
       "                NFLX\n",
       "Date                \n",
       "2019-04-04   $367.88\n",
       "2019-04-05   $365.49\n",
       "2019-04-08   $361.41\n",
       "2019-04-09   $364.71\n",
       "2019-04-10   $363.92\n",
       "...              ...\n",
       "2020-03-30   $370.96\n",
       "2020-03-31    $375.5\n",
       "2020-04-01   $364.08\n",
       "2020-04-02   $370.08\n",
       "2020-04-03   $361.76\n",
       "\n",
       "[253 rows x 1 columns]"
      ]
     },
     "execution_count": 59,
     "metadata": {},
     "output_type": "execute_result"
    }
   ],
   "source": [
    "nflx_df.drop(columns=[' Volume', ' Open', ' High', ' Low'], inplace=True)\n",
    "nflx_df.columns=[\"NFLX\"]\n",
    "nflx_df\n"
   ]
  },
  {
   "cell_type": "code",
   "execution_count": 60,
   "metadata": {},
   "outputs": [
    {
     "data": {
      "text/html": [
       "<div>\n",
       "<style scoped>\n",
       "    .dataframe tbody tr th:only-of-type {\n",
       "        vertical-align: middle;\n",
       "    }\n",
       "\n",
       "    .dataframe tbody tr th {\n",
       "        vertical-align: top;\n",
       "    }\n",
       "\n",
       "    .dataframe thead th {\n",
       "        text-align: right;\n",
       "    }\n",
       "</style>\n",
       "<table border=\"1\" class=\"dataframe\">\n",
       "  <thead>\n",
       "    <tr style=\"text-align: right;\">\n",
       "      <th></th>\n",
       "      <th>NFLX</th>\n",
       "    </tr>\n",
       "    <tr>\n",
       "      <th>Date</th>\n",
       "      <th></th>\n",
       "    </tr>\n",
       "  </thead>\n",
       "  <tbody>\n",
       "    <tr>\n",
       "      <td>2019-04-04</td>\n",
       "      <td>367.88</td>\n",
       "    </tr>\n",
       "    <tr>\n",
       "      <td>2019-04-05</td>\n",
       "      <td>365.49</td>\n",
       "    </tr>\n",
       "    <tr>\n",
       "      <td>2019-04-08</td>\n",
       "      <td>361.41</td>\n",
       "    </tr>\n",
       "    <tr>\n",
       "      <td>2019-04-09</td>\n",
       "      <td>364.71</td>\n",
       "    </tr>\n",
       "    <tr>\n",
       "      <td>2019-04-10</td>\n",
       "      <td>363.92</td>\n",
       "    </tr>\n",
       "    <tr>\n",
       "      <td>...</td>\n",
       "      <td>...</td>\n",
       "    </tr>\n",
       "    <tr>\n",
       "      <td>2020-03-30</td>\n",
       "      <td>370.96</td>\n",
       "    </tr>\n",
       "    <tr>\n",
       "      <td>2020-03-31</td>\n",
       "      <td>375.5</td>\n",
       "    </tr>\n",
       "    <tr>\n",
       "      <td>2020-04-01</td>\n",
       "      <td>364.08</td>\n",
       "    </tr>\n",
       "    <tr>\n",
       "      <td>2020-04-02</td>\n",
       "      <td>370.08</td>\n",
       "    </tr>\n",
       "    <tr>\n",
       "      <td>2020-04-03</td>\n",
       "      <td>361.76</td>\n",
       "    </tr>\n",
       "  </tbody>\n",
       "</table>\n",
       "<p>253 rows × 1 columns</p>\n",
       "</div>"
      ],
      "text/plain": [
       "              NFLX\n",
       "Date              \n",
       "2019-04-04  367.88\n",
       "2019-04-05  365.49\n",
       "2019-04-08  361.41\n",
       "2019-04-09  364.71\n",
       "2019-04-10  363.92\n",
       "...            ...\n",
       "2020-03-30  370.96\n",
       "2020-03-31   375.5\n",
       "2020-04-01  364.08\n",
       "2020-04-02  370.08\n",
       "2020-04-03  361.76\n",
       "\n",
       "[253 rows x 1 columns]"
      ]
     },
     "execution_count": 60,
     "metadata": {},
     "output_type": "execute_result"
    }
   ],
   "source": [
    "#nflx_df=nflx_df('NFLX').str.replace(\"$\",\"\").astype(\"float\")\n",
    "\n",
    "nflx_df['NFLX'] = nflx_df['NFLX'].map(lambda x: x.lstrip(' $'))\n",
    "nflx_df\n"
   ]
  },
  {
   "cell_type": "code",
   "execution_count": 61,
   "metadata": {},
   "outputs": [
    {
     "data": {
      "text/html": [
       "<div>\n",
       "<style scoped>\n",
       "    .dataframe tbody tr th:only-of-type {\n",
       "        vertical-align: middle;\n",
       "    }\n",
       "\n",
       "    .dataframe tbody tr th {\n",
       "        vertical-align: top;\n",
       "    }\n",
       "\n",
       "    .dataframe thead th {\n",
       "        text-align: right;\n",
       "    }\n",
       "</style>\n",
       "<table border=\"1\" class=\"dataframe\">\n",
       "  <thead>\n",
       "    <tr style=\"text-align: right;\">\n",
       "      <th></th>\n",
       "      <th>Close/Last</th>\n",
       "      <th>Volume</th>\n",
       "      <th>Open</th>\n",
       "      <th>High</th>\n",
       "      <th>Low</th>\n",
       "    </tr>\n",
       "    <tr>\n",
       "      <th>Date</th>\n",
       "      <th></th>\n",
       "      <th></th>\n",
       "      <th></th>\n",
       "      <th></th>\n",
       "      <th></th>\n",
       "    </tr>\n",
       "  </thead>\n",
       "  <tbody>\n",
       "    <tr>\n",
       "      <td>2019-04-04</td>\n",
       "      <td>$32</td>\n",
       "      <td>950</td>\n",
       "      <td>$31.85</td>\n",
       "      <td>$32</td>\n",
       "      <td>$31.6782</td>\n",
       "    </tr>\n",
       "    <tr>\n",
       "      <td>2019-04-05</td>\n",
       "      <td>$32.5</td>\n",
       "      <td>9288</td>\n",
       "      <td>$32.14</td>\n",
       "      <td>$32.61</td>\n",
       "      <td>$31.95</td>\n",
       "    </tr>\n",
       "    <tr>\n",
       "      <td>2019-04-08</td>\n",
       "      <td>$32.71</td>\n",
       "      <td>16566</td>\n",
       "      <td>$32.35</td>\n",
       "      <td>$32.995</td>\n",
       "      <td>$32.35</td>\n",
       "    </tr>\n",
       "    <tr>\n",
       "      <td>2019-04-09</td>\n",
       "      <td>$31.72</td>\n",
       "      <td>5700</td>\n",
       "      <td>$32.212</td>\n",
       "      <td>$32.78</td>\n",
       "      <td>$31.72</td>\n",
       "    </tr>\n",
       "    <tr>\n",
       "      <td>2019-04-10</td>\n",
       "      <td>$32.85</td>\n",
       "      <td>930</td>\n",
       "      <td>$32.37</td>\n",
       "      <td>$32.99</td>\n",
       "      <td>$32.37</td>\n",
       "    </tr>\n",
       "  </tbody>\n",
       "</table>\n",
       "</div>"
      ],
      "text/plain": [
       "            Close/Last  Volume      Open      High        Low\n",
       "Date                                                         \n",
       "2019-04-04         $32     950    $31.85       $32   $31.6782\n",
       "2019-04-05       $32.5    9288    $32.14    $32.61     $31.95\n",
       "2019-04-08      $32.71   16566    $32.35   $32.995     $32.35\n",
       "2019-04-09      $31.72    5700   $32.212    $32.78     $31.72\n",
       "2019-04-10      $32.85     930    $32.37    $32.99     $32.37"
      ]
     },
     "execution_count": 61,
     "metadata": {},
     "output_type": "execute_result"
    }
   ],
   "source": [
    "csv_path = Path(\"./Resources/SHELL.csv\")\n",
    "shell_df=pd.read_csv(\n",
    "    csv_path, index_col=\"Date\", infer_datetime_format=True, parse_dates=True\n",
    ")\n",
    "shell_df.sort_index(inplace=True)\n",
    "shell_df.head()\n"
   ]
  },
  {
   "cell_type": "code",
   "execution_count": 62,
   "metadata": {},
   "outputs": [
    {
     "data": {
      "text/html": [
       "<div>\n",
       "<style scoped>\n",
       "    .dataframe tbody tr th:only-of-type {\n",
       "        vertical-align: middle;\n",
       "    }\n",
       "\n",
       "    .dataframe tbody tr th {\n",
       "        vertical-align: top;\n",
       "    }\n",
       "\n",
       "    .dataframe thead th {\n",
       "        text-align: right;\n",
       "    }\n",
       "</style>\n",
       "<table border=\"1\" class=\"dataframe\">\n",
       "  <thead>\n",
       "    <tr style=\"text-align: right;\">\n",
       "      <th></th>\n",
       "      <th>SHELL</th>\n",
       "    </tr>\n",
       "    <tr>\n",
       "      <th>Date</th>\n",
       "      <th></th>\n",
       "    </tr>\n",
       "  </thead>\n",
       "  <tbody>\n",
       "    <tr>\n",
       "      <td>2019-04-04</td>\n",
       "      <td>32</td>\n",
       "    </tr>\n",
       "    <tr>\n",
       "      <td>2019-04-05</td>\n",
       "      <td>32.5</td>\n",
       "    </tr>\n",
       "    <tr>\n",
       "      <td>2019-04-08</td>\n",
       "      <td>32.71</td>\n",
       "    </tr>\n",
       "    <tr>\n",
       "      <td>2019-04-09</td>\n",
       "      <td>31.72</td>\n",
       "    </tr>\n",
       "    <tr>\n",
       "      <td>2019-04-10</td>\n",
       "      <td>32.85</td>\n",
       "    </tr>\n",
       "  </tbody>\n",
       "</table>\n",
       "</div>"
      ],
      "text/plain": [
       "            SHELL\n",
       "Date             \n",
       "2019-04-04     32\n",
       "2019-04-05   32.5\n",
       "2019-04-08  32.71\n",
       "2019-04-09  31.72\n",
       "2019-04-10  32.85"
      ]
     },
     "execution_count": 62,
     "metadata": {},
     "output_type": "execute_result"
    }
   ],
   "source": [
    "shell_df.drop(columns=[' Volume', ' Open', ' High', ' Low'], inplace=True)\n",
    "shell_df.columns=[\"SHELL\"]\n",
    "shell_df['SHELL'] = shell_df['SHELL'].map(lambda x: x.lstrip(' $'))\n",
    "\n",
    "shell_df.head()"
   ]
  },
  {
   "cell_type": "code",
   "execution_count": 63,
   "metadata": {},
   "outputs": [
    {
     "data": {
      "text/html": [
       "<div>\n",
       "<style scoped>\n",
       "    .dataframe tbody tr th:only-of-type {\n",
       "        vertical-align: middle;\n",
       "    }\n",
       "\n",
       "    .dataframe tbody tr th {\n",
       "        vertical-align: top;\n",
       "    }\n",
       "\n",
       "    .dataframe thead th {\n",
       "        text-align: right;\n",
       "    }\n",
       "</style>\n",
       "<table border=\"1\" class=\"dataframe\">\n",
       "  <thead>\n",
       "    <tr style=\"text-align: right;\">\n",
       "      <th></th>\n",
       "      <th>Close/Last</th>\n",
       "      <th>Volume</th>\n",
       "      <th>Open</th>\n",
       "      <th>High</th>\n",
       "      <th>Low</th>\n",
       "    </tr>\n",
       "    <tr>\n",
       "      <th>Date</th>\n",
       "      <th></th>\n",
       "      <th></th>\n",
       "      <th></th>\n",
       "      <th></th>\n",
       "      <th></th>\n",
       "    </tr>\n",
       "  </thead>\n",
       "  <tbody>\n",
       "    <tr>\n",
       "      <td>2019-04-04</td>\n",
       "      <td>$31.98</td>\n",
       "      <td>28151460</td>\n",
       "      <td>$31.95</td>\n",
       "      <td>$32.13</td>\n",
       "      <td>$31.92</td>\n",
       "    </tr>\n",
       "    <tr>\n",
       "      <td>2019-04-05</td>\n",
       "      <td>$32.35</td>\n",
       "      <td>39905920</td>\n",
       "      <td>$32.07</td>\n",
       "      <td>$32.36</td>\n",
       "      <td>$31.92</td>\n",
       "    </tr>\n",
       "    <tr>\n",
       "      <td>2019-04-08</td>\n",
       "      <td>$32.39</td>\n",
       "      <td>37213470</td>\n",
       "      <td>$32.45</td>\n",
       "      <td>$32.515</td>\n",
       "      <td>$32.19</td>\n",
       "    </tr>\n",
       "    <tr>\n",
       "      <td>2019-04-09</td>\n",
       "      <td>$31.75</td>\n",
       "      <td>26771390</td>\n",
       "      <td>$31.85</td>\n",
       "      <td>$31.89</td>\n",
       "      <td>$31.54</td>\n",
       "    </tr>\n",
       "    <tr>\n",
       "      <td>2019-04-10</td>\n",
       "      <td>$31.88</td>\n",
       "      <td>20273770</td>\n",
       "      <td>$31.75</td>\n",
       "      <td>$32.04</td>\n",
       "      <td>$31.74</td>\n",
       "    </tr>\n",
       "  </tbody>\n",
       "</table>\n",
       "</div>"
      ],
      "text/plain": [
       "            Close/Last    Volume     Open      High      Low\n",
       "Date                                                        \n",
       "2019-04-04      $31.98  28151460   $31.95    $32.13   $31.92\n",
       "2019-04-05      $32.35  39905920   $32.07    $32.36   $31.92\n",
       "2019-04-08      $32.39  37213470   $32.45   $32.515   $32.19\n",
       "2019-04-09      $31.75  26771390   $31.85    $31.89   $31.54\n",
       "2019-04-10      $31.88  20273770   $31.75    $32.04   $31.74"
      ]
     },
     "execution_count": 63,
     "metadata": {},
     "output_type": "execute_result"
    }
   ],
   "source": [
    "csv_path = Path(\"./Resources/AT&T.csv\")\n",
    "att_df=pd.read_csv(\n",
    "    csv_path, index_col=\"Date\", infer_datetime_format=True, parse_dates=True\n",
    ")\n",
    "att_df.sort_index(inplace=True)\n",
    "att_df.head()\n"
   ]
  },
  {
   "cell_type": "code",
   "execution_count": 64,
   "metadata": {},
   "outputs": [
    {
     "data": {
      "text/plain": [
       "Index([' Close/Last', ' Volume', ' Open', ' High', ' Low'], dtype='object')"
      ]
     },
     "execution_count": 64,
     "metadata": {},
     "output_type": "execute_result"
    }
   ],
   "source": [
    "att_df.columns"
   ]
  },
  {
   "cell_type": "code",
   "execution_count": 65,
   "metadata": {},
   "outputs": [
    {
     "data": {
      "text/html": [
       "<div>\n",
       "<style scoped>\n",
       "    .dataframe tbody tr th:only-of-type {\n",
       "        vertical-align: middle;\n",
       "    }\n",
       "\n",
       "    .dataframe tbody tr th {\n",
       "        vertical-align: top;\n",
       "    }\n",
       "\n",
       "    .dataframe thead th {\n",
       "        text-align: right;\n",
       "    }\n",
       "</style>\n",
       "<table border=\"1\" class=\"dataframe\">\n",
       "  <thead>\n",
       "    <tr style=\"text-align: right;\">\n",
       "      <th></th>\n",
       "      <th>AT&amp;T</th>\n",
       "    </tr>\n",
       "    <tr>\n",
       "      <th>Date</th>\n",
       "      <th></th>\n",
       "    </tr>\n",
       "  </thead>\n",
       "  <tbody>\n",
       "    <tr>\n",
       "      <td>2019-04-04</td>\n",
       "      <td>31.98</td>\n",
       "    </tr>\n",
       "    <tr>\n",
       "      <td>2019-04-05</td>\n",
       "      <td>32.35</td>\n",
       "    </tr>\n",
       "    <tr>\n",
       "      <td>2019-04-08</td>\n",
       "      <td>32.39</td>\n",
       "    </tr>\n",
       "    <tr>\n",
       "      <td>2019-04-09</td>\n",
       "      <td>31.75</td>\n",
       "    </tr>\n",
       "    <tr>\n",
       "      <td>2019-04-10</td>\n",
       "      <td>31.88</td>\n",
       "    </tr>\n",
       "  </tbody>\n",
       "</table>\n",
       "</div>"
      ],
      "text/plain": [
       "             AT&T\n",
       "Date             \n",
       "2019-04-04  31.98\n",
       "2019-04-05  32.35\n",
       "2019-04-08  32.39\n",
       "2019-04-09  31.75\n",
       "2019-04-10  31.88"
      ]
     },
     "execution_count": 65,
     "metadata": {},
     "output_type": "execute_result"
    }
   ],
   "source": [
    "att_df.drop(columns=[' Volume', ' Open', ' High', ' Low'], inplace=True)\n",
    "att_df.columns=[\"AT&T\"]\n",
    "att_df[\"AT&T\"]= att_df['AT&T'].map(lambda x: x.lstrip(' $'))\n",
    "att_df.head()\n",
    "\n"
   ]
  },
  {
   "cell_type": "code",
   "execution_count": 66,
   "metadata": {},
   "outputs": [
    {
     "data": {
      "text/html": [
       "<div>\n",
       "<style scoped>\n",
       "    .dataframe tbody tr th:only-of-type {\n",
       "        vertical-align: middle;\n",
       "    }\n",
       "\n",
       "    .dataframe tbody tr th {\n",
       "        vertical-align: top;\n",
       "    }\n",
       "\n",
       "    .dataframe thead th {\n",
       "        text-align: right;\n",
       "    }\n",
       "</style>\n",
       "<table border=\"1\" class=\"dataframe\">\n",
       "  <thead>\n",
       "    <tr style=\"text-align: right;\">\n",
       "      <th></th>\n",
       "      <th>NFLX</th>\n",
       "      <th>AT&amp;T</th>\n",
       "      <th>SHELL</th>\n",
       "    </tr>\n",
       "    <tr>\n",
       "      <th>Date</th>\n",
       "      <th></th>\n",
       "      <th></th>\n",
       "      <th></th>\n",
       "    </tr>\n",
       "  </thead>\n",
       "  <tbody>\n",
       "    <tr>\n",
       "      <td>2019-04-04</td>\n",
       "      <td>367.88</td>\n",
       "      <td>31.98</td>\n",
       "      <td>32</td>\n",
       "    </tr>\n",
       "    <tr>\n",
       "      <td>2019-04-05</td>\n",
       "      <td>365.49</td>\n",
       "      <td>32.35</td>\n",
       "      <td>32.5</td>\n",
       "    </tr>\n",
       "    <tr>\n",
       "      <td>2019-04-08</td>\n",
       "      <td>361.41</td>\n",
       "      <td>32.39</td>\n",
       "      <td>32.71</td>\n",
       "    </tr>\n",
       "    <tr>\n",
       "      <td>2019-04-09</td>\n",
       "      <td>364.71</td>\n",
       "      <td>31.75</td>\n",
       "      <td>31.72</td>\n",
       "    </tr>\n",
       "    <tr>\n",
       "      <td>2019-04-10</td>\n",
       "      <td>363.92</td>\n",
       "      <td>31.88</td>\n",
       "      <td>32.85</td>\n",
       "    </tr>\n",
       "  </tbody>\n",
       "</table>\n",
       "</div>"
      ],
      "text/plain": [
       "              NFLX   AT&T  SHELL\n",
       "Date                            \n",
       "2019-04-04  367.88  31.98     32\n",
       "2019-04-05  365.49  32.35   32.5\n",
       "2019-04-08  361.41  32.39  32.71\n",
       "2019-04-09  364.71  31.75  31.72\n",
       "2019-04-10  363.92  31.88  32.85"
      ]
     },
     "execution_count": 66,
     "metadata": {},
     "output_type": "execute_result"
    }
   ],
   "source": [
    "# Concatenate all stocks into a single DataFrame\n",
    "# YOUR CODE HERE\n",
    "portfolio_df= pd.concat([nflx_df, att_df, shell_df], axis=\"columns\", join=\"inner\")\n",
    "portfolio_df.head()"
   ]
  },
  {
   "cell_type": "code",
   "execution_count": 67,
   "metadata": {},
   "outputs": [],
   "source": [
    "# Reset the index\n",
    "# YOUR CODE HERE\n"
   ]
  },
  {
   "cell_type": "code",
   "execution_count": 68,
   "metadata": {},
   "outputs": [
    {
     "data": {
      "text/plain": [
       "NFLX     0\n",
       "AT&T     0\n",
       "SHELL    0\n",
       "dtype: int64"
      ]
     },
     "execution_count": 68,
     "metadata": {},
     "output_type": "execute_result"
    }
   ],
   "source": [
    "# Drop Nulls\n",
    "# YOUR CODE HERE\n",
    "portfolio_df.isnull().sum()"
   ]
  },
  {
   "cell_type": "markdown",
   "metadata": {},
   "source": [
    "## Calculate the weighted returns for the portfolio assuming an equal number of shares for each stock"
   ]
  },
  {
   "cell_type": "code",
   "execution_count": 69,
   "metadata": {},
   "outputs": [
    {
     "data": {
      "text/html": [
       "<div>\n",
       "<style scoped>\n",
       "    .dataframe tbody tr th:only-of-type {\n",
       "        vertical-align: middle;\n",
       "    }\n",
       "\n",
       "    .dataframe tbody tr th {\n",
       "        vertical-align: top;\n",
       "    }\n",
       "\n",
       "    .dataframe thead th {\n",
       "        text-align: right;\n",
       "    }\n",
       "</style>\n",
       "<table border=\"1\" class=\"dataframe\">\n",
       "  <thead>\n",
       "    <tr style=\"text-align: right;\">\n",
       "      <th></th>\n",
       "      <th>NFLX</th>\n",
       "      <th>AT&amp;T</th>\n",
       "      <th>SHELL</th>\n",
       "    </tr>\n",
       "    <tr>\n",
       "      <th>Date</th>\n",
       "      <th></th>\n",
       "      <th></th>\n",
       "      <th></th>\n",
       "    </tr>\n",
       "  </thead>\n",
       "  <tbody>\n",
       "    <tr>\n",
       "      <td>2019-04-04</td>\n",
       "      <td>NaN</td>\n",
       "      <td>NaN</td>\n",
       "      <td>NaN</td>\n",
       "    </tr>\n",
       "    <tr>\n",
       "      <td>2019-04-05</td>\n",
       "      <td>-0.006497</td>\n",
       "      <td>0.011570</td>\n",
       "      <td>0.015625</td>\n",
       "    </tr>\n",
       "    <tr>\n",
       "      <td>2019-04-08</td>\n",
       "      <td>-0.011163</td>\n",
       "      <td>0.001236</td>\n",
       "      <td>0.006462</td>\n",
       "    </tr>\n",
       "    <tr>\n",
       "      <td>2019-04-09</td>\n",
       "      <td>0.009131</td>\n",
       "      <td>-0.019759</td>\n",
       "      <td>-0.030266</td>\n",
       "    </tr>\n",
       "    <tr>\n",
       "      <td>2019-04-10</td>\n",
       "      <td>-0.002166</td>\n",
       "      <td>0.004094</td>\n",
       "      <td>0.035624</td>\n",
       "    </tr>\n",
       "  </tbody>\n",
       "</table>\n",
       "</div>"
      ],
      "text/plain": [
       "                NFLX      AT&T     SHELL\n",
       "Date                                    \n",
       "2019-04-04       NaN       NaN       NaN\n",
       "2019-04-05 -0.006497  0.011570  0.015625\n",
       "2019-04-08 -0.011163  0.001236  0.006462\n",
       "2019-04-09  0.009131 -0.019759 -0.030266\n",
       "2019-04-10 -0.002166  0.004094  0.035624"
      ]
     },
     "execution_count": 69,
     "metadata": {},
     "output_type": "execute_result"
    }
   ],
   "source": [
    "# Calculate weighted portfolio returns\n",
    "#weights = [1/3, 1/3, 1/3]\n",
    "# YOUR CODE HERE\n",
    "portfolio_returns = portfolio_df.astype(float).pct_change()\n",
    "portfolio_returns.head()"
   ]
  },
  {
   "cell_type": "code",
   "execution_count": 70,
   "metadata": {},
   "outputs": [
    {
     "data": {
      "text/plain": [
       "<bound method NDFrame.head of Date\n",
       "2019-04-04         NaN\n",
       "2019-04-05    0.006899\n",
       "2019-04-08   -0.001155\n",
       "2019-04-09   -0.013631\n",
       "2019-04-10    0.012518\n",
       "                ...   \n",
       "2020-03-30    0.037091\n",
       "2020-03-31    0.004738\n",
       "2020-04-01   -0.026690\n",
       "2020-04-02    0.056734\n",
       "2020-04-03   -0.045813\n",
       "Length: 253, dtype: float64>"
      ]
     },
     "execution_count": 70,
     "metadata": {},
     "output_type": "execute_result"
    }
   ],
   "source": [
    "weights = [1/3, 1/3, 1/3]\n",
    "weighted_return=portfolio_returns.dot(weights)\n",
    "weighted_return.head"
   ]
  },
  {
   "cell_type": "markdown",
   "metadata": {},
   "source": [
    "## Join your portfolio returns to the DataFrame that contains all of the portfolio returns"
   ]
  },
  {
   "cell_type": "code",
   "execution_count": 71,
   "metadata": {},
   "outputs": [
    {
     "data": {
      "text/html": [
       "<div>\n",
       "<style scoped>\n",
       "    .dataframe tbody tr th:only-of-type {\n",
       "        vertical-align: middle;\n",
       "    }\n",
       "\n",
       "    .dataframe tbody tr th {\n",
       "        vertical-align: top;\n",
       "    }\n",
       "\n",
       "    .dataframe thead th {\n",
       "        text-align: right;\n",
       "    }\n",
       "</style>\n",
       "<table border=\"1\" class=\"dataframe\">\n",
       "  <thead>\n",
       "    <tr style=\"text-align: right;\">\n",
       "      <th></th>\n",
       "      <th>SOROS FUND MANAGEMENT LLC</th>\n",
       "      <th>PAULSON &amp; CO.INC.</th>\n",
       "      <th>TIGER GLOBAL MANAGEMENT LLC</th>\n",
       "      <th>BERKSHIRE HATHAWAY INC</th>\n",
       "      <th>Algo 1</th>\n",
       "      <th>Algo 2</th>\n",
       "      <th>SP500</th>\n",
       "      <th>NFLX</th>\n",
       "      <th>AT&amp;T</th>\n",
       "      <th>SHELL</th>\n",
       "    </tr>\n",
       "    <tr>\n",
       "      <th>Date</th>\n",
       "      <th></th>\n",
       "      <th></th>\n",
       "      <th></th>\n",
       "      <th></th>\n",
       "      <th></th>\n",
       "      <th></th>\n",
       "      <th></th>\n",
       "      <th></th>\n",
       "      <th></th>\n",
       "      <th></th>\n",
       "    </tr>\n",
       "  </thead>\n",
       "  <tbody>\n",
       "    <tr>\n",
       "      <td>2019-04-04</td>\n",
       "      <td>0.001255</td>\n",
       "      <td>0.010630</td>\n",
       "      <td>0.008459</td>\n",
       "      <td>-0.008037</td>\n",
       "      <td>-0.003597</td>\n",
       "      <td>0.003265</td>\n",
       "      <td>0.002085</td>\n",
       "      <td>NaN</td>\n",
       "      <td>NaN</td>\n",
       "      <td>NaN</td>\n",
       "    </tr>\n",
       "    <tr>\n",
       "      <td>2019-04-05</td>\n",
       "      <td>0.006880</td>\n",
       "      <td>0.006484</td>\n",
       "      <td>0.009357</td>\n",
       "      <td>0.006128</td>\n",
       "      <td>0.001519</td>\n",
       "      <td>0.009306</td>\n",
       "      <td>0.004636</td>\n",
       "      <td>-0.006497</td>\n",
       "      <td>0.011570</td>\n",
       "      <td>0.015625</td>\n",
       "    </tr>\n",
       "    <tr>\n",
       "      <td>2019-04-08</td>\n",
       "      <td>0.000483</td>\n",
       "      <td>-0.000310</td>\n",
       "      <td>0.000153</td>\n",
       "      <td>0.000841</td>\n",
       "      <td>0.003761</td>\n",
       "      <td>0.000218</td>\n",
       "      <td>0.001047</td>\n",
       "      <td>-0.011163</td>\n",
       "      <td>0.001236</td>\n",
       "      <td>0.006462</td>\n",
       "    </tr>\n",
       "    <tr>\n",
       "      <td>2019-04-09</td>\n",
       "      <td>-0.005657</td>\n",
       "      <td>-0.004396</td>\n",
       "      <td>-0.006536</td>\n",
       "      <td>-0.002497</td>\n",
       "      <td>0.012012</td>\n",
       "      <td>-0.011639</td>\n",
       "      <td>-0.006067</td>\n",
       "      <td>0.009131</td>\n",
       "      <td>-0.019759</td>\n",
       "      <td>-0.030266</td>\n",
       "    </tr>\n",
       "    <tr>\n",
       "      <td>2019-04-10</td>\n",
       "      <td>0.009808</td>\n",
       "      <td>0.008366</td>\n",
       "      <td>0.002912</td>\n",
       "      <td>0.005269</td>\n",
       "      <td>-0.004221</td>\n",
       "      <td>0.009632</td>\n",
       "      <td>0.003478</td>\n",
       "      <td>-0.002166</td>\n",
       "      <td>0.004094</td>\n",
       "      <td>0.035624</td>\n",
       "    </tr>\n",
       "  </tbody>\n",
       "</table>\n",
       "</div>"
      ],
      "text/plain": [
       "            SOROS FUND MANAGEMENT LLC  PAULSON & CO.INC.   \\\n",
       "Date                                                        \n",
       "2019-04-04                   0.001255            0.010630   \n",
       "2019-04-05                   0.006880            0.006484   \n",
       "2019-04-08                   0.000483           -0.000310   \n",
       "2019-04-09                  -0.005657           -0.004396   \n",
       "2019-04-10                   0.009808            0.008366   \n",
       "\n",
       "            TIGER GLOBAL MANAGEMENT LLC  BERKSHIRE HATHAWAY INC    Algo 1  \\\n",
       "Date                                                                        \n",
       "2019-04-04                     0.008459               -0.008037 -0.003597   \n",
       "2019-04-05                     0.009357                0.006128  0.001519   \n",
       "2019-04-08                     0.000153                0.000841  0.003761   \n",
       "2019-04-09                    -0.006536               -0.002497  0.012012   \n",
       "2019-04-10                     0.002912                0.005269 -0.004221   \n",
       "\n",
       "              Algo 2     SP500      NFLX      AT&T     SHELL  \n",
       "Date                                                          \n",
       "2019-04-04  0.003265  0.002085       NaN       NaN       NaN  \n",
       "2019-04-05  0.009306  0.004636 -0.006497  0.011570  0.015625  \n",
       "2019-04-08  0.000218  0.001047 -0.011163  0.001236  0.006462  \n",
       "2019-04-09 -0.011639 -0.006067  0.009131 -0.019759 -0.030266  \n",
       "2019-04-10  0.009632  0.003478 -0.002166  0.004094  0.035624  "
      ]
     },
     "execution_count": 71,
     "metadata": {},
     "output_type": "execute_result"
    }
   ],
   "source": [
    "# YOUR CODE HERE\n",
    "joined_data=pd.concat([combined_df, portfolio_returns], axis='columns', join='inner')\n",
    "joined_data.head()"
   ]
  },
  {
   "cell_type": "code",
   "execution_count": 72,
   "metadata": {},
   "outputs": [
    {
     "data": {
      "text/html": [
       "<div>\n",
       "<style scoped>\n",
       "    .dataframe tbody tr th:only-of-type {\n",
       "        vertical-align: middle;\n",
       "    }\n",
       "\n",
       "    .dataframe tbody tr th {\n",
       "        vertical-align: top;\n",
       "    }\n",
       "\n",
       "    .dataframe thead th {\n",
       "        text-align: right;\n",
       "    }\n",
       "</style>\n",
       "<table border=\"1\" class=\"dataframe\">\n",
       "  <thead>\n",
       "    <tr style=\"text-align: right;\">\n",
       "      <th></th>\n",
       "      <th>SOROS FUND MANAGEMENT LLC</th>\n",
       "      <th>PAULSON &amp; CO.INC.</th>\n",
       "      <th>TIGER GLOBAL MANAGEMENT LLC</th>\n",
       "      <th>BERKSHIRE HATHAWAY INC</th>\n",
       "      <th>Algo 1</th>\n",
       "      <th>Algo 2</th>\n",
       "      <th>SP500</th>\n",
       "      <th>NFLX</th>\n",
       "      <th>AT&amp;T</th>\n",
       "      <th>SHELL</th>\n",
       "    </tr>\n",
       "    <tr>\n",
       "      <th>Date</th>\n",
       "      <th></th>\n",
       "      <th></th>\n",
       "      <th></th>\n",
       "      <th></th>\n",
       "      <th></th>\n",
       "      <th></th>\n",
       "      <th></th>\n",
       "      <th></th>\n",
       "      <th></th>\n",
       "      <th></th>\n",
       "    </tr>\n",
       "  </thead>\n",
       "  <tbody>\n",
       "    <tr>\n",
       "      <td>2019-04-05</td>\n",
       "      <td>0.006880</td>\n",
       "      <td>0.006484</td>\n",
       "      <td>0.009357</td>\n",
       "      <td>0.006128</td>\n",
       "      <td>0.001519</td>\n",
       "      <td>0.009306</td>\n",
       "      <td>0.004636</td>\n",
       "      <td>-0.006497</td>\n",
       "      <td>0.011570</td>\n",
       "      <td>0.015625</td>\n",
       "    </tr>\n",
       "    <tr>\n",
       "      <td>2019-04-08</td>\n",
       "      <td>0.000483</td>\n",
       "      <td>-0.000310</td>\n",
       "      <td>0.000153</td>\n",
       "      <td>0.000841</td>\n",
       "      <td>0.003761</td>\n",
       "      <td>0.000218</td>\n",
       "      <td>0.001047</td>\n",
       "      <td>-0.011163</td>\n",
       "      <td>0.001236</td>\n",
       "      <td>0.006462</td>\n",
       "    </tr>\n",
       "    <tr>\n",
       "      <td>2019-04-09</td>\n",
       "      <td>-0.005657</td>\n",
       "      <td>-0.004396</td>\n",
       "      <td>-0.006536</td>\n",
       "      <td>-0.002497</td>\n",
       "      <td>0.012012</td>\n",
       "      <td>-0.011639</td>\n",
       "      <td>-0.006067</td>\n",
       "      <td>0.009131</td>\n",
       "      <td>-0.019759</td>\n",
       "      <td>-0.030266</td>\n",
       "    </tr>\n",
       "    <tr>\n",
       "      <td>2019-04-10</td>\n",
       "      <td>0.009808</td>\n",
       "      <td>0.008366</td>\n",
       "      <td>0.002912</td>\n",
       "      <td>0.005269</td>\n",
       "      <td>-0.004221</td>\n",
       "      <td>0.009632</td>\n",
       "      <td>0.003478</td>\n",
       "      <td>-0.002166</td>\n",
       "      <td>0.004094</td>\n",
       "      <td>0.035624</td>\n",
       "    </tr>\n",
       "    <tr>\n",
       "      <td>2019-04-11</td>\n",
       "      <td>0.003406</td>\n",
       "      <td>-0.003959</td>\n",
       "      <td>-0.000637</td>\n",
       "      <td>-0.000496</td>\n",
       "      <td>0.001705</td>\n",
       "      <td>-0.001568</td>\n",
       "      <td>0.000038</td>\n",
       "      <td>0.010250</td>\n",
       "      <td>0.010038</td>\n",
       "      <td>-0.010654</td>\n",
       "    </tr>\n",
       "  </tbody>\n",
       "</table>\n",
       "</div>"
      ],
      "text/plain": [
       "            SOROS FUND MANAGEMENT LLC  PAULSON & CO.INC.   \\\n",
       "Date                                                        \n",
       "2019-04-05                   0.006880            0.006484   \n",
       "2019-04-08                   0.000483           -0.000310   \n",
       "2019-04-09                  -0.005657           -0.004396   \n",
       "2019-04-10                   0.009808            0.008366   \n",
       "2019-04-11                   0.003406           -0.003959   \n",
       "\n",
       "            TIGER GLOBAL MANAGEMENT LLC  BERKSHIRE HATHAWAY INC    Algo 1  \\\n",
       "Date                                                                        \n",
       "2019-04-05                     0.009357                0.006128  0.001519   \n",
       "2019-04-08                     0.000153                0.000841  0.003761   \n",
       "2019-04-09                    -0.006536               -0.002497  0.012012   \n",
       "2019-04-10                     0.002912                0.005269 -0.004221   \n",
       "2019-04-11                    -0.000637               -0.000496  0.001705   \n",
       "\n",
       "              Algo 2     SP500      NFLX      AT&T     SHELL  \n",
       "Date                                                          \n",
       "2019-04-05  0.009306  0.004636 -0.006497  0.011570  0.015625  \n",
       "2019-04-08  0.000218  0.001047 -0.011163  0.001236  0.006462  \n",
       "2019-04-09 -0.011639 -0.006067  0.009131 -0.019759 -0.030266  \n",
       "2019-04-10  0.009632  0.003478 -0.002166  0.004094  0.035624  \n",
       "2019-04-11 -0.001568  0.000038  0.010250  0.010038 -0.010654  "
      ]
     },
     "execution_count": 72,
     "metadata": {},
     "output_type": "execute_result"
    }
   ],
   "source": [
    "# Only compare dates where return data exists for all the stocks (drop NaNs)\n",
    "# YOUR CODE HERE\n",
    "joined_port = joined_data.apply (pd.to_numeric, errors='coerce')\n",
    "joined_port= joined_data.dropna()\n",
    "joined_port.head()"
   ]
  },
  {
   "cell_type": "markdown",
   "metadata": {},
   "source": [
    "## Re-run the performance and risk analysis with your portfolio to see how it compares to the others"
   ]
  },
  {
   "cell_type": "code",
   "execution_count": 73,
   "metadata": {},
   "outputs": [
    {
     "data": {
      "text/plain": [
       "SOROS FUND MANAGEMENT LLC      0.074954\n",
       "PAULSON & CO.INC.              0.076768\n",
       "TIGER GLOBAL MANAGEMENT LLC    0.072170\n",
       "BERKSHIRE HATHAWAY INC         0.093230\n",
       "Algo 1                         0.096438\n",
       "Algo 2                         0.105273\n",
       "SP500                          0.063010\n",
       "NFLX                           0.370578\n",
       "AT&T                           0.137090\n",
       "SHELL                          0.291209\n",
       "dtype: float64"
      ]
     },
     "execution_count": 73,
     "metadata": {},
     "output_type": "execute_result"
    }
   ],
   "source": [
    "# Risk\n",
    "# YOUR CODE HERE\n",
    "risk=joined_port.std()*np.sqrt(252)\n",
    "risk"
   ]
  },
  {
   "cell_type": "code",
   "execution_count": 74,
   "metadata": {},
   "outputs": [
    {
     "data": {
      "text/html": [
       "<div>\n",
       "<style scoped>\n",
       "    .dataframe tbody tr th:only-of-type {\n",
       "        vertical-align: middle;\n",
       "    }\n",
       "\n",
       "    .dataframe tbody tr th {\n",
       "        vertical-align: top;\n",
       "    }\n",
       "\n",
       "    .dataframe thead th {\n",
       "        text-align: right;\n",
       "    }\n",
       "</style>\n",
       "<table border=\"1\" class=\"dataframe\">\n",
       "  <thead>\n",
       "    <tr style=\"text-align: right;\">\n",
       "      <th></th>\n",
       "      <th>SOROS FUND MANAGEMENT LLC</th>\n",
       "      <th>PAULSON &amp; CO.INC.</th>\n",
       "      <th>TIGER GLOBAL MANAGEMENT LLC</th>\n",
       "      <th>BERKSHIRE HATHAWAY INC</th>\n",
       "      <th>Algo 1</th>\n",
       "      <th>Algo 2</th>\n",
       "      <th>SP500</th>\n",
       "      <th>NFLX</th>\n",
       "      <th>AT&amp;T</th>\n",
       "      <th>SHELL</th>\n",
       "    </tr>\n",
       "    <tr>\n",
       "      <th>Date</th>\n",
       "      <th></th>\n",
       "      <th></th>\n",
       "      <th></th>\n",
       "      <th></th>\n",
       "      <th></th>\n",
       "      <th></th>\n",
       "      <th></th>\n",
       "      <th></th>\n",
       "      <th></th>\n",
       "      <th></th>\n",
       "    </tr>\n",
       "  </thead>\n",
       "  <tbody>\n",
       "    <tr>\n",
       "      <td>2019-04-05</td>\n",
       "      <td>NaN</td>\n",
       "      <td>NaN</td>\n",
       "      <td>NaN</td>\n",
       "      <td>NaN</td>\n",
       "      <td>NaN</td>\n",
       "      <td>NaN</td>\n",
       "      <td>NaN</td>\n",
       "      <td>NaN</td>\n",
       "      <td>NaN</td>\n",
       "      <td>NaN</td>\n",
       "    </tr>\n",
       "    <tr>\n",
       "      <td>2019-04-08</td>\n",
       "      <td>NaN</td>\n",
       "      <td>NaN</td>\n",
       "      <td>NaN</td>\n",
       "      <td>NaN</td>\n",
       "      <td>NaN</td>\n",
       "      <td>NaN</td>\n",
       "      <td>NaN</td>\n",
       "      <td>NaN</td>\n",
       "      <td>NaN</td>\n",
       "      <td>NaN</td>\n",
       "    </tr>\n",
       "    <tr>\n",
       "      <td>2019-04-09</td>\n",
       "      <td>NaN</td>\n",
       "      <td>NaN</td>\n",
       "      <td>NaN</td>\n",
       "      <td>NaN</td>\n",
       "      <td>NaN</td>\n",
       "      <td>NaN</td>\n",
       "      <td>NaN</td>\n",
       "      <td>NaN</td>\n",
       "      <td>NaN</td>\n",
       "      <td>NaN</td>\n",
       "    </tr>\n",
       "    <tr>\n",
       "      <td>2019-04-10</td>\n",
       "      <td>NaN</td>\n",
       "      <td>NaN</td>\n",
       "      <td>NaN</td>\n",
       "      <td>NaN</td>\n",
       "      <td>NaN</td>\n",
       "      <td>NaN</td>\n",
       "      <td>NaN</td>\n",
       "      <td>NaN</td>\n",
       "      <td>NaN</td>\n",
       "      <td>NaN</td>\n",
       "    </tr>\n",
       "    <tr>\n",
       "      <td>2019-04-11</td>\n",
       "      <td>NaN</td>\n",
       "      <td>NaN</td>\n",
       "      <td>NaN</td>\n",
       "      <td>NaN</td>\n",
       "      <td>NaN</td>\n",
       "      <td>NaN</td>\n",
       "      <td>NaN</td>\n",
       "      <td>NaN</td>\n",
       "      <td>NaN</td>\n",
       "      <td>NaN</td>\n",
       "    </tr>\n",
       "    <tr>\n",
       "      <td>2019-04-12</td>\n",
       "      <td>NaN</td>\n",
       "      <td>NaN</td>\n",
       "      <td>NaN</td>\n",
       "      <td>NaN</td>\n",
       "      <td>NaN</td>\n",
       "      <td>NaN</td>\n",
       "      <td>NaN</td>\n",
       "      <td>NaN</td>\n",
       "      <td>NaN</td>\n",
       "      <td>NaN</td>\n",
       "    </tr>\n",
       "    <tr>\n",
       "      <td>2019-04-15</td>\n",
       "      <td>0.002737</td>\n",
       "      <td>0.000552</td>\n",
       "      <td>0.001409</td>\n",
       "      <td>0.000867</td>\n",
       "      <td>0.000706</td>\n",
       "      <td>0.000840</td>\n",
       "      <td>0.001302</td>\n",
       "      <td>-0.007402</td>\n",
       "      <td>0.000227</td>\n",
       "      <td>0.000640</td>\n",
       "    </tr>\n",
       "    <tr>\n",
       "      <td>2019-04-16</td>\n",
       "      <td>0.002140</td>\n",
       "      <td>-0.000319</td>\n",
       "      <td>-0.000046</td>\n",
       "      <td>0.000111</td>\n",
       "      <td>-0.000503</td>\n",
       "      <td>-0.000075</td>\n",
       "      <td>0.000712</td>\n",
       "      <td>-0.002138</td>\n",
       "      <td>-0.000400</td>\n",
       "      <td>-0.002037</td>\n",
       "    </tr>\n",
       "    <tr>\n",
       "      <td>2019-04-17</td>\n",
       "      <td>0.001657</td>\n",
       "      <td>-0.001198</td>\n",
       "      <td>-0.000698</td>\n",
       "      <td>0.000451</td>\n",
       "      <td>-0.002512</td>\n",
       "      <td>-0.000853</td>\n",
       "      <td>0.000238</td>\n",
       "      <td>-0.002419</td>\n",
       "      <td>-0.001905</td>\n",
       "      <td>-0.001799</td>\n",
       "    </tr>\n",
       "    <tr>\n",
       "      <td>2019-04-18</td>\n",
       "      <td>0.002672</td>\n",
       "      <td>-0.000396</td>\n",
       "      <td>0.000319</td>\n",
       "      <td>0.001081</td>\n",
       "      <td>-0.004312</td>\n",
       "      <td>0.000634</td>\n",
       "      <td>0.001330</td>\n",
       "      <td>-0.001464</td>\n",
       "      <td>0.001275</td>\n",
       "      <td>-0.000398</td>\n",
       "    </tr>\n",
       "    <tr>\n",
       "      <td>2019-04-22</td>\n",
       "      <td>0.000902</td>\n",
       "      <td>-0.002639</td>\n",
       "      <td>-0.000617</td>\n",
       "      <td>0.000173</td>\n",
       "      <td>-0.003612</td>\n",
       "      <td>-0.001018</td>\n",
       "      <td>0.000978</td>\n",
       "      <td>0.005581</td>\n",
       "      <td>0.000913</td>\n",
       "      <td>-0.002368</td>\n",
       "    </tr>\n",
       "    <tr>\n",
       "      <td>2019-04-23</td>\n",
       "      <td>0.001439</td>\n",
       "      <td>-0.001575</td>\n",
       "      <td>0.000398</td>\n",
       "      <td>0.002141</td>\n",
       "      <td>-0.003146</td>\n",
       "      <td>0.000580</td>\n",
       "      <td>0.002235</td>\n",
       "      <td>0.005839</td>\n",
       "      <td>-0.000432</td>\n",
       "      <td>-0.000359</td>\n",
       "    </tr>\n",
       "  </tbody>\n",
       "</table>\n",
       "</div>"
      ],
      "text/plain": [
       "            SOROS FUND MANAGEMENT LLC  PAULSON & CO.INC.   \\\n",
       "Date                                                        \n",
       "2019-04-05                        NaN                 NaN   \n",
       "2019-04-08                        NaN                 NaN   \n",
       "2019-04-09                        NaN                 NaN   \n",
       "2019-04-10                        NaN                 NaN   \n",
       "2019-04-11                        NaN                 NaN   \n",
       "2019-04-12                        NaN                 NaN   \n",
       "2019-04-15                   0.002737            0.000552   \n",
       "2019-04-16                   0.002140           -0.000319   \n",
       "2019-04-17                   0.001657           -0.001198   \n",
       "2019-04-18                   0.002672           -0.000396   \n",
       "2019-04-22                   0.000902           -0.002639   \n",
       "2019-04-23                   0.001439           -0.001575   \n",
       "\n",
       "            TIGER GLOBAL MANAGEMENT LLC  BERKSHIRE HATHAWAY INC    Algo 1  \\\n",
       "Date                                                                        \n",
       "2019-04-05                          NaN                     NaN       NaN   \n",
       "2019-04-08                          NaN                     NaN       NaN   \n",
       "2019-04-09                          NaN                     NaN       NaN   \n",
       "2019-04-10                          NaN                     NaN       NaN   \n",
       "2019-04-11                          NaN                     NaN       NaN   \n",
       "2019-04-12                          NaN                     NaN       NaN   \n",
       "2019-04-15                     0.001409                0.000867  0.000706   \n",
       "2019-04-16                    -0.000046                0.000111 -0.000503   \n",
       "2019-04-17                    -0.000698                0.000451 -0.002512   \n",
       "2019-04-18                     0.000319                0.001081 -0.004312   \n",
       "2019-04-22                    -0.000617                0.000173 -0.003612   \n",
       "2019-04-23                     0.000398                0.002141 -0.003146   \n",
       "\n",
       "              Algo 2     SP500      NFLX      AT&T     SHELL  \n",
       "Date                                                          \n",
       "2019-04-05       NaN       NaN       NaN       NaN       NaN  \n",
       "2019-04-08       NaN       NaN       NaN       NaN       NaN  \n",
       "2019-04-09       NaN       NaN       NaN       NaN       NaN  \n",
       "2019-04-10       NaN       NaN       NaN       NaN       NaN  \n",
       "2019-04-11       NaN       NaN       NaN       NaN       NaN  \n",
       "2019-04-12       NaN       NaN       NaN       NaN       NaN  \n",
       "2019-04-15  0.000840  0.001302 -0.007402  0.000227  0.000640  \n",
       "2019-04-16 -0.000075  0.000712 -0.002138 -0.000400 -0.002037  \n",
       "2019-04-17 -0.000853  0.000238 -0.002419 -0.001905 -0.001799  \n",
       "2019-04-18  0.000634  0.001330 -0.001464  0.001275 -0.000398  \n",
       "2019-04-22 -0.001018  0.000978  0.005581  0.000913 -0.002368  \n",
       "2019-04-23  0.000580  0.002235  0.005839 -0.000432 -0.000359  "
      ]
     },
     "execution_count": 74,
     "metadata": {},
     "output_type": "execute_result"
    }
   ],
   "source": [
    "# Rolling\n",
    "# YOUR CODE HERE\n",
    "joined_port.rolling(window=7).mean()"
   ]
  },
  {
   "cell_type": "code",
   "execution_count": 75,
   "metadata": {},
   "outputs": [
    {
     "data": {
      "text/plain": [
       "-2.14320306864663e-05"
      ]
     },
     "execution_count": 75,
     "metadata": {},
     "output_type": "execute_result"
    }
   ],
   "source": [
    "# Beta\n",
    "# YOUR CODE HERE\n",
    "cov=joined_port[\"NFLX\"].cov(joined_port[\"SP500\"])\n",
    "cov"
   ]
  },
  {
   "cell_type": "code",
   "execution_count": 76,
   "metadata": {},
   "outputs": [
    {
     "data": {
      "text/plain": [
       "0.0005449533917240699"
      ]
     },
     "execution_count": 76,
     "metadata": {},
     "output_type": "execute_result"
    }
   ],
   "source": [
    "var=joined_port[\"NFLX\"].var()\n",
    "var"
   ]
  },
  {
   "cell_type": "code",
   "execution_count": 77,
   "metadata": {},
   "outputs": [
    {
     "data": {
      "text/plain": [
       "-0.0393281902855247"
      ]
     },
     "execution_count": 77,
     "metadata": {},
     "output_type": "execute_result"
    }
   ],
   "source": [
    "nflx_beta= cov/var\n",
    "nflx_beta"
   ]
  },
  {
   "cell_type": "code",
   "execution_count": 78,
   "metadata": {},
   "outputs": [
    {
     "data": {
      "text/plain": [
       "SOROS FUND MANAGEMENT LLC      7.002126\n",
       "PAULSON & CO.INC.             -1.324276\n",
       "TIGER GLOBAL MANAGEMENT LLC    2.338239\n",
       "BERKSHIRE HATHAWAY INC         5.458018\n",
       "Algo 1                        -1.577493\n",
       "Algo 2                         1.996704\n",
       "SP500                          6.259024\n",
       "NFLX                           2.291008\n",
       "AT&T                           0.636962\n",
       "SHELL                          1.029462\n",
       "dtype: float64"
      ]
     },
     "execution_count": 78,
     "metadata": {},
     "output_type": "execute_result"
    }
   ],
   "source": [
    "# Annualzied Sharpe Ratios\n",
    "# YOUR CODE HERE\n",
    "sh_ratio_port= (joined_port.mean()*252)/(joined_port.std() * np.sqrt(252))\n",
    "sh_ratio_port"
   ]
  },
  {
   "cell_type": "code",
   "execution_count": 79,
   "metadata": {},
   "outputs": [
    {
     "data": {
      "text/plain": [
       "<matplotlib.axes._subplots.AxesSubplot at 0x1a1cbc0450>"
      ]
     },
     "execution_count": 79,
     "metadata": {},
     "output_type": "execute_result"
    },
    {
     "data": {
      "image/png": "[encoded data removed]",
      "text/plain": [
       "<Figure size 432x288 with 1 Axes>"
      ]
     },
     "metadata": {
      "needs_background": "light"
     },
     "output_type": "display_data"
    }
   ],
   "source": [
    "# Visualize the sharpe ratios as a bar plot\n",
    "# YOUR CODE HERE\n",
    "sh_ratio_port.plot(kind=\"bar\", title=\"Sharpe Ratio of the joined Portfolios\")\n"
   ]
  },
  {
   "cell_type": "markdown",
   "metadata": {},
   "source": [
    "## Include correlation analysis to determine which stocks (if any) are correlated"
   ]
  },
  {
   "cell_type": "code",
   "execution_count": 80,
   "metadata": {},
   "outputs": [],
   "source": [
    "# YOUR CODE HERE"
   ]
  },
  {
   "cell_type": "code",
   "execution_count": 81,
   "metadata": {},
   "outputs": [
    {
     "data": {
      "text/html": [
       "<div>\n",
       "<style scoped>\n",
       "    .dataframe tbody tr th:only-of-type {\n",
       "        vertical-align: middle;\n",
       "    }\n",
       "\n",
       "    .dataframe tbody tr th {\n",
       "        vertical-align: top;\n",
       "    }\n",
       "\n",
       "    .dataframe thead th {\n",
       "        text-align: right;\n",
       "    }\n",
       "</style>\n",
       "<table border=\"1\" class=\"dataframe\">\n",
       "  <thead>\n",
       "    <tr style=\"text-align: right;\">\n",
       "      <th></th>\n",
       "      <th>SOROS FUND MANAGEMENT LLC</th>\n",
       "      <th>PAULSON &amp; CO.INC.</th>\n",
       "      <th>TIGER GLOBAL MANAGEMENT LLC</th>\n",
       "      <th>BERKSHIRE HATHAWAY INC</th>\n",
       "      <th>Algo 1</th>\n",
       "      <th>Algo 2</th>\n",
       "      <th>SP500</th>\n",
       "      <th>NFLX</th>\n",
       "      <th>AT&amp;T</th>\n",
       "      <th>SHELL</th>\n",
       "    </tr>\n",
       "  </thead>\n",
       "  <tbody>\n",
       "    <tr>\n",
       "      <td>SOROS FUND MANAGEMENT LLC</td>\n",
       "      <td>1.000000</td>\n",
       "      <td>0.663721</td>\n",
       "      <td>0.741094</td>\n",
       "      <td>0.627451</td>\n",
       "      <td>-0.171699</td>\n",
       "      <td>0.932956</td>\n",
       "      <td>0.826736</td>\n",
       "      <td>-0.255676</td>\n",
       "      <td>0.704547</td>\n",
       "      <td>0.513344</td>\n",
       "    </tr>\n",
       "    <tr>\n",
       "      <td>PAULSON &amp; CO.INC.</td>\n",
       "      <td>0.663721</td>\n",
       "      <td>1.000000</td>\n",
       "      <td>0.839201</td>\n",
       "      <td>0.104140</td>\n",
       "      <td>-0.083387</td>\n",
       "      <td>0.724831</td>\n",
       "      <td>0.519090</td>\n",
       "      <td>-0.200584</td>\n",
       "      <td>0.480842</td>\n",
       "      <td>0.374635</td>\n",
       "    </tr>\n",
       "    <tr>\n",
       "      <td>TIGER GLOBAL MANAGEMENT LLC</td>\n",
       "      <td>0.741094</td>\n",
       "      <td>0.839201</td>\n",
       "      <td>1.000000</td>\n",
       "      <td>0.283308</td>\n",
       "      <td>-0.111357</td>\n",
       "      <td>0.831072</td>\n",
       "      <td>0.794277</td>\n",
       "      <td>-0.347561</td>\n",
       "      <td>0.632073</td>\n",
       "      <td>0.368989</td>\n",
       "    </tr>\n",
       "    <tr>\n",
       "      <td>BERKSHIRE HATHAWAY INC</td>\n",
       "      <td>0.627451</td>\n",
       "      <td>0.104140</td>\n",
       "      <td>0.283308</td>\n",
       "      <td>1.000000</td>\n",
       "      <td>0.072578</td>\n",
       "      <td>0.600982</td>\n",
       "      <td>0.654135</td>\n",
       "      <td>-0.204641</td>\n",
       "      <td>0.314644</td>\n",
       "      <td>0.401573</td>\n",
       "    </tr>\n",
       "    <tr>\n",
       "      <td>Algo 1</td>\n",
       "      <td>-0.171699</td>\n",
       "      <td>-0.083387</td>\n",
       "      <td>-0.111357</td>\n",
       "      <td>0.072578</td>\n",
       "      <td>1.000000</td>\n",
       "      <td>-0.206371</td>\n",
       "      <td>-0.136774</td>\n",
       "      <td>0.250557</td>\n",
       "      <td>-0.242529</td>\n",
       "      <td>-0.359330</td>\n",
       "    </tr>\n",
       "    <tr>\n",
       "      <td>Algo 2</td>\n",
       "      <td>0.932956</td>\n",
       "      <td>0.724831</td>\n",
       "      <td>0.831072</td>\n",
       "      <td>0.600982</td>\n",
       "      <td>-0.206371</td>\n",
       "      <td>1.000000</td>\n",
       "      <td>0.892671</td>\n",
       "      <td>-0.147140</td>\n",
       "      <td>0.719183</td>\n",
       "      <td>0.648209</td>\n",
       "    </tr>\n",
       "    <tr>\n",
       "      <td>SP500</td>\n",
       "      <td>0.826736</td>\n",
       "      <td>0.519090</td>\n",
       "      <td>0.794277</td>\n",
       "      <td>0.654135</td>\n",
       "      <td>-0.136774</td>\n",
       "      <td>0.892671</td>\n",
       "      <td>1.000000</td>\n",
       "      <td>-0.231298</td>\n",
       "      <td>0.589597</td>\n",
       "      <td>0.463940</td>\n",
       "    </tr>\n",
       "    <tr>\n",
       "      <td>NFLX</td>\n",
       "      <td>-0.255676</td>\n",
       "      <td>-0.200584</td>\n",
       "      <td>-0.347561</td>\n",
       "      <td>-0.204641</td>\n",
       "      <td>0.250557</td>\n",
       "      <td>-0.147140</td>\n",
       "      <td>-0.231298</td>\n",
       "      <td>1.000000</td>\n",
       "      <td>0.138736</td>\n",
       "      <td>-0.012547</td>\n",
       "    </tr>\n",
       "    <tr>\n",
       "      <td>AT&amp;T</td>\n",
       "      <td>0.704547</td>\n",
       "      <td>0.480842</td>\n",
       "      <td>0.632073</td>\n",
       "      <td>0.314644</td>\n",
       "      <td>-0.242529</td>\n",
       "      <td>0.719183</td>\n",
       "      <td>0.589597</td>\n",
       "      <td>0.138736</td>\n",
       "      <td>1.000000</td>\n",
       "      <td>0.445646</td>\n",
       "    </tr>\n",
       "    <tr>\n",
       "      <td>SHELL</td>\n",
       "      <td>0.513344</td>\n",
       "      <td>0.374635</td>\n",
       "      <td>0.368989</td>\n",
       "      <td>0.401573</td>\n",
       "      <td>-0.359330</td>\n",
       "      <td>0.648209</td>\n",
       "      <td>0.463940</td>\n",
       "      <td>-0.012547</td>\n",
       "      <td>0.445646</td>\n",
       "      <td>1.000000</td>\n",
       "    </tr>\n",
       "  </tbody>\n",
       "</table>\n",
       "</div>"
      ],
      "text/plain": [
       "                             SOROS FUND MANAGEMENT LLC  PAULSON & CO.INC.   \\\n",
       "SOROS FUND MANAGEMENT LLC                     1.000000            0.663721   \n",
       "PAULSON & CO.INC.                             0.663721            1.000000   \n",
       "TIGER GLOBAL MANAGEMENT LLC                   0.741094            0.839201   \n",
       "BERKSHIRE HATHAWAY INC                        0.627451            0.104140   \n",
       "Algo 1                                       -0.171699           -0.083387   \n",
       "Algo 2                                        0.932956            0.724831   \n",
       "SP500                                         0.826736            0.519090   \n",
       "NFLX                                         -0.255676           -0.200584   \n",
       "AT&T                                          0.704547            0.480842   \n",
       "SHELL                                         0.513344            0.374635   \n",
       "\n",
       "                             TIGER GLOBAL MANAGEMENT LLC  \\\n",
       "SOROS FUND MANAGEMENT LLC                       0.741094   \n",
       "PAULSON & CO.INC.                               0.839201   \n",
       "TIGER GLOBAL MANAGEMENT LLC                     1.000000   \n",
       "BERKSHIRE HATHAWAY INC                          0.283308   \n",
       "Algo 1                                         -0.111357   \n",
       "Algo 2                                          0.831072   \n",
       "SP500                                           0.794277   \n",
       "NFLX                                           -0.347561   \n",
       "AT&T                                            0.632073   \n",
       "SHELL                                           0.368989   \n",
       "\n",
       "                             BERKSHIRE HATHAWAY INC    Algo 1    Algo 2  \\\n",
       "SOROS FUND MANAGEMENT LLC                  0.627451 -0.171699  0.932956   \n",
       "PAULSON & CO.INC.                          0.104140 -0.083387  0.724831   \n",
       "TIGER GLOBAL MANAGEMENT LLC                0.283308 -0.111357  0.831072   \n",
       "BERKSHIRE HATHAWAY INC                     1.000000  0.072578  0.600982   \n",
       "Algo 1                                     0.072578  1.000000 -0.206371   \n",
       "Algo 2                                     0.600982 -0.206371  1.000000   \n",
       "SP500                                      0.654135 -0.136774  0.892671   \n",
       "NFLX                                      -0.204641  0.250557 -0.147140   \n",
       "AT&T                                       0.314644 -0.242529  0.719183   \n",
       "SHELL                                      0.401573 -0.359330  0.648209   \n",
       "\n",
       "                                SP500      NFLX      AT&T     SHELL  \n",
       "SOROS FUND MANAGEMENT LLC    0.826736 -0.255676  0.704547  0.513344  \n",
       "PAULSON & CO.INC.            0.519090 -0.200584  0.480842  0.374635  \n",
       "TIGER GLOBAL MANAGEMENT LLC  0.794277 -0.347561  0.632073  0.368989  \n",
       "BERKSHIRE HATHAWAY INC       0.654135 -0.204641  0.314644  0.401573  \n",
       "Algo 1                      -0.136774  0.250557 -0.242529 -0.359330  \n",
       "Algo 2                       0.892671 -0.147140  0.719183  0.648209  \n",
       "SP500                        1.000000 -0.231298  0.589597  0.463940  \n",
       "NFLX                        -0.231298  1.000000  0.138736 -0.012547  \n",
       "AT&T                         0.589597  0.138736  1.000000  0.445646  \n",
       "SHELL                        0.463940 -0.012547  0.445646  1.000000  "
      ]
     },
     "execution_count": 81,
     "metadata": {},
     "output_type": "execute_result"
    }
   ],
   "source": [
    "portfolio_correlation= joined_data.corr()\n",
    "portfolio_correlation"
   ]
  },
  {
   "cell_type": "code",
   "execution_count": 82,
   "metadata": {},
   "outputs": [
    {
     "data": {
      "text/plain": [
       "<matplotlib.axes._subplots.AxesSubplot at 0x1a19ba4e50>"
      ]
     },
     "execution_count": 82,
     "metadata": {},
     "output_type": "execute_result"
    },
    {
     "data": {
      "image/png": "[encoded data removed]",
      "text/plain": [
       "<Figure size 432x288 with 2 Axes>"
      ]
     },
     "metadata": {
      "needs_background": "light"
     },
     "output_type": "display_data"
    }
   ],
   "source": [
    "sns.heatmap(portfolio_correlation, vmin=-1, vmax=1)"
   ]
  },
  {
   "cell_type": "code",
   "execution_count": null,
   "metadata": {},
   "outputs": [],
   "source": []
  }
 ],
 "metadata": {
  "file_extension": ".py",
  "kernel_info": {
   "name": "dev"
  },
  "kernelspec": {
   "display_name": "Python 3",
   "language": "python",
   "name": "python3"
  },
  "language_info": {
   "codemirror_mode": {
    "name": "ipython",
    "version": 3
   },
   "file_extension": ".py",
   "mimetype": "text/x-python",
   "name": "python",
   "nbconvert_exporter": "python",
   "pygments_lexer": "ipython3",
   "version": "3.7.4"
  },
  "mimetype": "text/x-python",
  "name": "python",
  "npconvert_exporter": "python",
  "nteract": {
   "version": "0.12.3"
  },
  "pygments_lexer": "ipython3",
  "version": 3
 },
 "nbformat": 4,
 "nbformat_minor": 4
}
